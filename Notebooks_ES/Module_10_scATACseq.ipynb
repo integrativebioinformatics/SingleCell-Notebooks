{
 "cells": [
  {
   "cell_type": "markdown",
   "metadata": {
    "id": "ouGPkMgU67sF"
   },
   "source": [
    "# Single cell Assay for Transposase-Accessible Chromatin sequencing (scATAC-seq)\n",
    "\n",
    "For this work, we will use data from the article by Kumegawa et al. (2022) entitled: \"GRHL2 motif is associated with intratumor heterogeneity of cis-regulatory elements in luminal breast cancer\"\n",
    "\n",
    "In this paper, Kumegawa et al. analyze chromatin accessibility profiles of more than 10.000 cells from 16 breast cancer patients including luminal, luminal-HER2, HER2+ and 3 triple-negative subtypes.\n",
    "Using this profiling process, they classified cells into cancer cells and tumor microenvironment, allowing to highlight the heterogeneity of disease-related pathways. Moreover, they identified the GRHL2 transcription factor which cooperated with FOXA1 to initiate endocrine resistance and that GRHL2 binding elements potentially regulate genes associated with endocrine resistance, metastasis, and poor prognosis in patients that received hormonal therapy.\n",
    "\n",
    "The scATAC-seq libraries were prepared with the SureCell ATAC-seq Library Preparation kit (BioRad) and a SureCell ddSEQ Index Kit (Bio-Rad). Alignment was done with ATAC-Seq Analysis Toolkit (Bio-Rad).\n",
    "\n",
    "For this work, we will explore two breast tumor samples (TNBC and Luminal-HER2), specifically T cells. To do so, we went to retrieve the file fragment of a sample from the [GEO (Gene Expression Omnibus) website](https://www.ncbi.nlm.nih.gov/geo/query/acc.cgi) using the identifier provided by the author: GSE198639.\n",
    "\n",
    "This course is done using ArchR. For more details on ArchR see [here](https://www.archrproject.com/index.html).\n",
    "\n",
    "ArchR provides a comprehensive suite for scATAC-seq analysis tools from pre-processing data to results, offering several levels of information.\n",
    "Moreover, ArchR is fast and ask a reasonable ressource usage.\n",
    "\n",
    "For these analyses, you need (if you will do in your computer):\n",
    "\n",
    "1. Install python3.6 or more:\n",
    "\n",
    "https://www.python.org/downloads/\n",
    "\n",
    "\n",
    "2. Install conda (miniconda or anaconda, it's a package manager for python, it allows to create python environment):\n",
    "\n",
    "https://conda.io/projects/conda/en/latest/user-guide/install/index.html\n",
    "\n",
    "\n",
    "3. Install macs2 package (via the terminal):\n",
    "\n",
    "`conda create -y -n MACS2 python=3.6`\n",
    "\n",
    "`conda activate MACS2`\n",
    "\n",
    "`conda install macs2 or conda install -c bioconda macs2`\n",
    "\n",
    "\n",
    "* Install of R4.1.3 or more:\n",
    "\n",
    "https://cran.r-project.org/\n",
    "\n",
    "\n",
    "* install these R packages (via R environment):\n",
    "\n",
    "`install.packages(c(\"devtools\",\"BiocManager\",\"reticulate\",\"clustree\",\"Seurat\"))`\n",
    "\n",
    "`devtools::install_github(\"GreenleafLab/ArchR\", ref=\"master\", repos = BiocManager::repositories())`\n",
    "\n",
    "`ArchR::installExtraPackages()`\n",
    "\n",
    "`BiocManager::install(\"BSgenome.Hsapiens.UCSC.hg19\")` (or other genome if you have data from another organism or another genome reference)\n",
    "\n",
    "`devtools::install_github(\"GreenleafLab/chromVARmotifs\")`\n",
    "\n",
    "`install.packages(\"hexbin\")`\n"
   ]
  },
  {
   "cell_type": "markdown",
   "metadata": {
    "id": "aSJNY1xyvGTa"
   },
   "source": [
    "# Download preinstalled libraries and datasets"
   ]
  },
  {
   "cell_type": "code",
   "execution_count": null,
   "metadata": {
    "executionInfo": {
     "elapsed": 27804,
     "status": "ok",
     "timestamp": 1690400040014,
     "user": {
      "displayName": "Adolfo Alexis Rojas Hidalgo",
      "userId": "18158766317608392773"
     },
     "user_tz": 240
    },
    "id": "kYexU6WyjGYU",
    "vscode": {
     "languageId": "r"
    }
   },
   "outputs": [],
   "source": [
    "# Descargar el código de instalación desde GitHub\n",
    "download.file(\"https://github.com/eddelbuettel/r2u/raw/master/inst/scripts/add_cranapt_jammy.sh\",\n",
    "              \"add_cranapt_jammy.sh\")\n",
    "\n",
    "# Cambiar los permisos del código para hacerlo ejecutable\n",
    "Sys.chmod(\"add_cranapt_jammy.sh\", \"0755\")\n",
    "\n",
    "# Ejecutar el script en la terminal\n",
    "system(\"./add_cranapt_jammy.sh\")"
   ]
  },
  {
   "cell_type": "code",
   "execution_count": null,
   "metadata": {
    "executionInfo": {
     "elapsed": 39850,
     "status": "ok",
     "timestamp": 1690400079857,
     "user": {
      "displayName": "Adolfo Alexis Rojas Hidalgo",
      "userId": "18158766317608392773"
     },
     "user_tz": 240
    },
    "id": "MJvBdSTX7aru",
    "vscode": {
     "languageId": "r"
    }
   },
   "outputs": [],
   "source": [
    "# Instalar dependencias necesarias utilizando apt\n",
    "system(\"apt install libfreetype6-dev libpng-dev libtiff5-dev libjpeg-dev libbz2-dev libgsl-dev gsl-bin -y\")\n",
    "system(\"apt install libfontconfig1-dev libharfbuzz-dev libfribidi-dev libcairo2-dev libgmp-dev -y\")\n",
    "system(\"apt update\")\n",
    "system(\"apt install libmagick++-dev -y\")"
   ]
  },
  {
   "cell_type": "code",
   "execution_count": null,
   "metadata": {
    "colab": {
     "base_uri": "https://localhost:8080/"
    },
    "executionInfo": {
     "elapsed": 176959,
     "status": "ok",
     "timestamp": 1690400256813,
     "user": {
      "displayName": "Adolfo Alexis Rojas Hidalgo",
      "userId": "18158766317608392773"
     },
     "user_tz": 240
    },
    "id": "UhEdthWz7jBS",
    "outputId": "858524de-e58f-4b0e-dbf9-318ca38dcc45",
    "vscode": {
     "languageId": "r"
    }
   },
   "outputs": [],
   "source": [
    "# Definir una función auxiliar para ejecutar comandos en la terminal y mostrar su salida\n",
    "shell_call <- function(command, ...) {\n",
    "  result <- system(command, intern = TRUE, ...)  # Ejecutar el comando y capturar la salida\n",
    "  cat(paste0(result, collapse = \"\\n\"))  # Imprimir la salida en la consola\n",
    "}\n",
    "\n",
    "# Descargar el paquete MACS2 (versión 2.2.9.1) usando wget\n",
    "shell_call(\"wget https://github.com/macs3-project/MACS/archive/refs/tags/v2.2.9.1.tar.gz -O MACS.tar.gz\")\n",
    "\n",
    "# Extraer el archivo tar.gz descargado\n",
    "system(\"tar -xvf MACS.tar.gz\")\n",
    "\n",
    "# Instalar MACS2 en modo editable usando pip\n",
    "shell_call(\"pip install -e MACS-2.2.9.1/\")"
   ]
  },
  {
   "cell_type": "code",
   "execution_count": null,
   "metadata": {
    "colab": {
     "base_uri": "https://localhost:8080/"
    },
    "executionInfo": {
     "elapsed": 619588,
     "status": "ok",
     "timestamp": 1690400924784,
     "user": {
      "displayName": "Adolfo Alexis Rojas Hidalgo",
      "userId": "18158766317608392773"
     },
     "user_tz": 240
    },
    "id": "mCtPqtZXuW90",
    "outputId": "80956da0-a93e-462e-b04d-ae5c9ab1de86",
    "vscode": {
     "languageId": "r"
    }
   },
   "outputs": [],
   "source": [
    "# Establecer un límite de tiempo largo para evitar fallos en las descargas\n",
    "options(timeout = 1000)\n",
    "\n",
    "# Instalar BiocManager si no está instalado\n",
    "if (!require(\"BiocManager\", quietly = TRUE))\n",
    "    install.packages(\"BiocManager\", quiet = TRUE)\n",
    "\n",
    "# Instalar ArchR desde GitHub usando devtools\n",
    "devtools::install_github(\"GreenleafLab/ArchR\", ref = \"master\", repos = BiocManager::repositories(), upgrade = FALSE)\n",
    "\n",
    "# Instalar dependencias adicionales para ArchR\n",
    "ArchR::installExtraPackages()\n",
    "\n",
    "# Instalar otros paquetes R necesarios\n",
    "install.packages(\"clustree\", quiet = TRUE)\n",
    "install.packages(\"hexbin\")\n",
    "\n",
    "# Instalar una versión específica del paquete Matrix desde los archivos de CRAN\n",
    "install.packages(\"https://cran.r-project.org/src/contrib/Archive/Matrix/Matrix_1.5-3.tar.gz\", repos = NULL, type = \"source\")"
   ]
  },
  {
   "cell_type": "code",
   "execution_count": null,
   "metadata": {
    "executionInfo": {
     "elapsed": 249,
     "status": "ok",
     "timestamp": 1690400935123,
     "user": {
      "displayName": "Adolfo Alexis Rojas Hidalgo",
      "userId": "18158766317608392773"
     },
     "user_tz": 240
    },
    "id": "HXl6wS2N7XRT",
    "vscode": {
     "languageId": "r"
    }
   },
   "outputs": [],
   "source": [
    "# Función para ejecutar comandos de shell y mostrar la salida\n",
    "shell_call <- function(command, ...) {\n",
    "  result <- system(command, intern = TRUE, ...)  # Ejecutar el comando y almacenar la salida\n",
    "  cat(paste0(result, collapse = \"\\n\"))  # Imprimir la salida\n",
    "}"
   ]
  },
  {
   "cell_type": "code",
   "execution_count": null,
   "metadata": {
    "colab": {
     "base_uri": "https://localhost:8080/"
    },
    "executionInfo": {
     "elapsed": 112091,
     "status": "ok",
     "timestamp": 1690401048065,
     "user": {
      "displayName": "Adolfo Alexis Rojas Hidalgo",
      "userId": "18158766317608392773"
     },
     "user_tz": 240
    },
    "id": "47nodC2O7nBW",
    "outputId": "acae7687-d428-404b-89b4-c19283b0ccef",
    "vscode": {
     "languageId": "r"
    }
   },
   "outputs": [],
   "source": [
    "# Establecer un límite de tiempo para las descargas\n",
    "options(timeout = 300)\n",
    "\n",
    "# Descargar el conjunto de datos del taller de scATAC-seq como un archivo ZIP\n",
    "download.file('https://iauchile-my.sharepoint.com/:u:/g/personal/adolfo_rh_postqyf_uchile_cl/ETPOTjhE9llEkT85F6XQfyQBdN4r9R2Jf4hvY1BicfTWSw?e=tQbDjt&download=1', \n",
    "              'scATACseqWorkshop.zip')\n",
    "\n",
    "# Listar los archivos descargados con información detallada\n",
    "shell_call(\"ls -lh\")\n",
    "\n",
    "# Descomprimir el archivo descargado\n",
    "system(\"unzip scATACseqWorkshop.zip\")"
   ]
  },
  {
   "cell_type": "markdown",
   "metadata": {
    "id": "oM4pRLZCYGTI"
   },
   "source": [
    "# NOTE: If you have errors you can do this to reanalyze the data"
   ]
  },
  {
   "cell_type": "code",
   "execution_count": null,
   "metadata": {
    "id": "RyyARJS2SxTy",
    "vscode": {
     "languageId": "r"
    }
   },
   "outputs": [],
   "source": [
    "# Definir el directorio de trabajo\n",
    "work_dir2 <- \"/content/\"\n",
    "setwd(work_dir2)\n",
    "\n",
    "# Eliminar cualquier directorio existente con el mismo nombre\n",
    "shell_call(\"rm -rf scATACseqWorkshop/\")\n",
    "\n",
    "# Descomprimir nuevamente el conjunto de datos\n",
    "shell_call(\"unzip scATACseqWorkshop.zip\")"
   ]
  },
  {
   "cell_type": "markdown",
   "metadata": {
    "id": "gQzbJ-X867sV"
   },
   "source": [
    "## 1. Define libraries, parameters and directories\n",
    "Firstly, we define python library location and load R libraries.\n",
    "After, we define some parameters such as: 1) the number of threads we will use, 2) the working directory and 3) the location of fragment files.\n",
    "\n",
    "In fact, ArchR can utilize multiple input formats of scATAC-seq data (the fragment files and the BAM files are the more common scATAC-seq data).\n"
   ]
  },
  {
   "cell_type": "code",
   "execution_count": null,
   "metadata": {
    "colab": {
     "base_uri": "https://localhost:8080/"
    },
    "executionInfo": {
     "elapsed": 12801,
     "status": "ok",
     "timestamp": 1690401060863,
     "user": {
      "displayName": "Adolfo Alexis Rojas Hidalgo",
      "userId": "18158766317608392773"
     },
     "user_tz": 240
    },
    "id": "jFGBBC4B7lKb",
    "outputId": "91f4a8cd-f262-4c0a-cc48-8b9f08359a0e",
    "vscode": {
     "languageId": "r"
    }
   },
   "outputs": [],
   "source": [
    "# Suprimir los mensajes de inicio de los paquetes para una salida más limpia\n",
    "# Cargar las librerías necesarias\n",
    "suppressPackageStartupMessages({\n",
    "  library(ArchR)\n",
    "  library(reticulate)\n",
    "  library(clustree)\n",
    "  library(Seurat)\n",
    "  library(hexbin)\n",
    "})"
   ]
  },
  {
   "cell_type": "code",
   "execution_count": null,
   "metadata": {
    "colab": {
     "base_uri": "https://localhost:8080/",
     "height": 243
    },
    "executionInfo": {
     "elapsed": 949,
     "status": "ok",
     "timestamp": 1690401061803,
     "user": {
      "displayName": "Adolfo Alexis Rojas Hidalgo",
      "userId": "18158766317608392773"
     },
     "user_tz": 240
    },
    "id": "jQxv9Tp4khe9",
    "outputId": "1b0fd0df-05ad-443f-dcd4-d31786a7dd01",
    "vscode": {
     "languageId": "r"
    }
   },
   "outputs": [],
   "source": [
    "# Establecer la ruta del entorno de Python para Reticulate\n",
    "Sys.setenv(RETICULATE_PYTHON = \"/usr/local/bin/python\")\n",
    "\n",
    "# Verificar la configuración de Python\n",
    "py_config()\n",
    "\n",
    "# Verificar si MACS2 está instalado y accesible\n",
    "findMacs2()"
   ]
  },
  {
   "cell_type": "code",
   "execution_count": null,
   "metadata": {
    "colab": {
     "base_uri": "https://localhost:8080/"
    },
    "executionInfo": {
     "elapsed": 34572,
     "status": "ok",
     "timestamp": 1690401096373,
     "user": {
      "displayName": "Adolfo Alexis Rojas Hidalgo",
      "userId": "18158766317608392773"
     },
     "user_tz": 240
    },
    "id": "jeT0jkZa67sX",
    "outputId": "dd08c028-21e2-4400-ef8e-30ef350b9455",
    "vscode": {
     "languageId": "r"
    }
   },
   "outputs": [],
   "source": [
    "# Establecer una semilla aleatoria para la reproducibilidad\n",
    "set.seed(1)\n",
    "\n",
    "# Definir el número de hilos a utilizar\n",
    "nb.threads = 2\n",
    "addArchRThreads(threads = nb.threads)\n",
    "\n",
    "# Establecer el directorio de trabajo\n",
    "work_dir <- \"/content/scATACseqWorkshop\"\n",
    "setwd(work_dir)\n",
    "\n",
    "# Listar y nombrar los archivos de fragmentos de entrada\n",
    "inputFiles <- list.files(file.path(work_dir, \"fragments_data\"), full.names = TRUE)\n",
    "names(inputFiles) <- gsub(\"^.+/\", \"\", gsub(\"GSM[0-9]+_\", \"\", gsub(\".fragments.tsv.gz\", \"\", inputFiles)))\n",
    "\n",
    "# Especificar el genoma de referencia para ArchR\n",
    "addArchRGenome(\"hg19\")"
   ]
  },
  {
   "cell_type": "markdown",
   "metadata": {
    "id": "O76Mt6YJ67sY"
   },
   "source": [
    "## 2. Create Arrow file\n",
    "We create an HDF5-format Arrow file that stores all of the data associated with a sample (now and during all the analysis process). It will be updated with the additional layers of information.\n",
    "\n",
    "If we analyse some samples, an Arrow file will be generated for each sample.\n",
    "\n",
    "It's not a R language object and because of this, we will generate an ArchRProject object to associate the Arrow file(s) into a single analytical framework that will be rapidly accessible in R.\n",
    "\n",
    "During this step, ArchR computes a TileMatrix containing insertion counts across genome-wide 500-bp bins (default value) and a GeneScoreMatrix that stores predicted gene expression based on weighting insertion counts in tiles nearby a gene promoter.\n"
   ]
  },
  {
   "cell_type": "code",
   "execution_count": null,
   "metadata": {
    "colab": {
     "base_uri": "https://localhost:8080/"
    },
    "executionInfo": {
     "elapsed": 11578,
     "status": "ok",
     "timestamp": 1690401107949,
     "user": {
      "displayName": "Adolfo Alexis Rojas Hidalgo",
      "userId": "18158766317608392773"
     },
     "user_tz": 240
    },
    "id": "SIv_0pLz67sZ",
    "outputId": "19c1b263-f608-4741-d16f-7ccc95cb7ddc",
    "vscode": {
     "languageId": "r"
    }
   },
   "outputs": [],
   "source": [
    "# Crear archivos Arrow a partir de los archivos de entrada\n",
    "ArrowFiles <- createArrowFiles(\n",
    "  inputFiles = inputFiles,   # Archivos de entrada con datos de scATAC-seq\n",
    "  sampleNames = names(inputFiles),  # Asignar nombres de muestra basados en los nombres de los archivos de entrada\n",
    "  minTSS = 0.1,   # Puntaje mínimo de enriquecimiento de TSS para filtrar células de baja calidad\n",
    "  minFrags = 1,   # Número mínimo de fragmentos únicos por célula\n",
    "  addTileMat = TRUE,  # Calcular y almacenar la matriz de mosaicos para el análisis de accesibilidad\n",
    "  addGeneScoreMat = TRUE  # Calcular y almacenar la matriz de puntuaciones de genes para el análisis de actividad génica\n",
    ")\n",
    "\n",
    "# Crear un proyecto ArchR utilizando los archivos Arrow generados\n",
    "project <- ArchRProject(\n",
    "  ArrowFiles = ArrowFiles,  # Utilizar los archivos Arrow generados\n",
    "  outputDirectory = \"Analysis_scATACseq_noFilter\",  # Definir el directorio de salida para el proyecto\n",
    "  copyArrows = TRUE  # Es recomendable mantener una copia de los archivos Arrow sin modificar para su uso futuro\n",
    ")"
   ]
  },
  {
   "cell_type": "markdown",
   "metadata": {
    "id": "l59ZF4zi67sa"
   },
   "source": [
    "![<i><font size=1 color=\"grey\">Grandi et al., 2022</font></i>](./Figures/atac_seq_fragment_Grandi2022.png){width=70% height=50%}\n",
    "\n",
    "Strict quality control (QC) of scATAC-seq data is essential to remove the contribution of low-quality cells.\n",
    "\n",
    "ArchR considers three characteristics of data:\n",
    "\n",
    "1. The fragment size (DNA fragments cut by Tn5 transposases) distribution. Due to nucleosomal periodicity, we expect to see depletion of fragments that are the length of DNA wrapped around a nucleosome (approximately 147 bp).\n",
    "\n",
    "2. The Transcription Start Site (TSS) enrichment (signal-to-background ratio). Low signal-to-background ratio is often attributed to dead or dying cells which have de-chromatized DNA which allows for random transposition genome-wide.\n",
    "\n",
    "3. The number of unique nuclear fragments (i.e. not mapping to mitochondrial DNA).\n",
    "\n",
    "We can appreciate the QC and the main metrics of samples using some plots:\n",
    "Plot QC metrics:\n"
   ]
  },
  {
   "cell_type": "code",
   "execution_count": null,
   "metadata": {
    "colab": {
     "base_uri": "https://localhost:8080/",
     "height": 0
    },
    "executionInfo": {
     "elapsed": 3837,
     "status": "ok",
     "timestamp": 1690401111778,
     "user": {
      "displayName": "Adolfo Alexis Rojas Hidalgo",
      "userId": "18158766317608392773"
     },
     "user_tz": 240
    },
    "id": "v8wvhXLe67sb",
    "outputId": "3d646ba1-2abe-4569-d954-3557427868e4",
    "vscode": {
     "languageId": "r"
    }
   },
   "outputs": [],
   "source": [
    "# Extraer datos de enriquecimiento de TSS y recuento de fragmentos del proyecto ArchR\n",
    "df <- getCellColData(project, select = c(\"log10(nFrags)\", \"TSSEnrichment\"))\n",
    "\n",
    "# Crear un gráfico de dispersión de Enriquecimiento de TSS vs Log10(Fragmentos Únicos)\n",
    "plot.tss.frags <- ggPoint(\n",
    "  x = df[,1], y = df[,2],  # Establecer el eje x como log10(Fragmentos Únicos) y el eje y como Enriquecimiento de TSS\n",
    "  colorDensity = TRUE,  # Colorear los puntos según su densidad\n",
    "  continuousSet = \"sambaNight\",  # Definir la paleta de colores\n",
    "  xlabel = \"Log10 Unique Fragments\", ylabel = \"TSS Enrichment\",  # Etiquetas de los ejes\n",
    "  xlim = c(0, quantile(df[,1], probs = 1) + 0.1),  # Establecer los límites del eje x\n",
    "  ylim = c(0, quantile(df[,2], probs = 1) + 0.1)   # Establecer los límites del eje y\n",
    ")\n",
    "\n",
    "# Guardar el gráfico como un archivo PDF en el directorio \"Plots\" del proyecto\n",
    "plotPDF(plot.tss.frags, name = \"TSS-vs-Frags.pdf\", ArchRProj = project, addDOC = FALSE)\n",
    "\n",
    "# Mostrar el gráfico\n",
    "plot.tss.frags"
   ]
  },
  {
   "cell_type": "markdown",
   "metadata": {
    "id": "S0Q0opz867sd"
   },
   "source": [
    "\n",
    "Plot TSS metrics:\n"
   ]
  },
  {
   "cell_type": "code",
   "execution_count": null,
   "metadata": {
    "colab": {
     "base_uri": "https://localhost:8080/",
     "height": 0
    },
    "executionInfo": {
     "elapsed": 1576,
     "status": "ok",
     "timestamp": 1690401113345,
     "user": {
      "displayName": "Adolfo Alexis Rojas Hidalgo",
      "userId": "18158766317608392773"
     },
     "user_tz": 240
    },
    "id": "ZpLNa41l67se",
    "outputId": "e7a7c808-0beb-491a-82ef-08211ddf8826",
    "vscode": {
     "languageId": "r"
    }
   },
   "outputs": [],
   "source": [
    "# Crear un gráfico de surcos \"ridges\" que muestre la distribución de enriquecimiento del TSS (Sitio de Inicio de Transcripción) en las muestras\n",
    "plot.tss.v1 <- plotGroups(\n",
    "  ArchRProj = project,  # Proyecto de ArchR que contiene los datos\n",
    "  groupBy = \"Sample\",  # Agrupar por muestra\n",
    "  colorBy = \"cellColData\",  # Colorear según los metadatos de las células\n",
    "  name = \"TSSEnrichment\",  # Usar el enriquecimiento de TSS como la característica a graficar\n",
    "  plotAs = \"ridges\"  # Graficar como un gráfico de surcos \"ridges\"\n",
    ")\n",
    "\n",
    "# Crear un gráfico de violín con un gráfico de caja superpuesto\n",
    "plot.tss.v2 <- plotGroups(\n",
    "  ArchRProj = project,  # Proyecto de ArchR que contiene los datos\n",
    "  groupBy = \"Sample\",  # Agrupar por muestra\n",
    "  colorBy = \"cellColData\",  # Colorear según los metadatos de las células\n",
    "  name = \"TSSEnrichment\",  # Usar el enriquecimiento de TSS como la característica a graficar\n",
    "  plotAs = \"violin\",  # Graficar como un gráfico de violín\n",
    "  alpha = 0.4,  # Establecer el nivel de transparencia\n",
    "  addBoxPlot = TRUE  # Superponer un gráfico de caja encima del gráfico de violín\n",
    ")\n",
    "\n",
    "# Mostrar ambos gráficos uno al lado del otro\n",
    "plot.tss.v1 | plot.tss.v2"
   ]
  },
  {
   "cell_type": "markdown",
   "metadata": {
    "id": "rD1Jvc_X67sf"
   },
   "source": [
    "\n",
    "Plot fragment metrics:\n"
   ]
  },
  {
   "cell_type": "code",
   "execution_count": null,
   "metadata": {
    "colab": {
     "base_uri": "https://localhost:8080/",
     "height": 0
    },
    "executionInfo": {
     "elapsed": 1121,
     "status": "ok",
     "timestamp": 1690401114464,
     "user": {
      "displayName": "Adolfo Alexis Rojas Hidalgo",
      "userId": "18158766317608392773"
     },
     "user_tz": 240
    },
    "id": "VFYIo2g167sg",
    "outputId": "f76fddc2-4dce-4b88-ccca-5cbb94dab2ac",
    "vscode": {
     "languageId": "r"
    }
   },
   "outputs": [],
   "source": [
    "# Crear un gráfico de surcos \"ridges\" que muestre la distribución de log10(Fragmentos Únicos) en las muestras\n",
    "plot.frags.v1 <- plotGroups(\n",
    "  ArchRProj = project,  # Proyecto de ArchR que contiene los datos\n",
    "  groupBy = \"Sample\",  # Agrupar por muestra\n",
    "  colorBy = \"cellColData\",  # Colorear según los metadatos de las células\n",
    "  name = \"log10(nFrags)\",  # Usar log10 del número de fragmentos únicos como la característica a graficar\n",
    "  plotAs = \"ridges\"  # Graficar como un gráfico de surcos \"ridges\"\n",
    ")\n",
    "\n",
    "# Crear un gráfico de violín (Violin plot) con un gráfico de caja superpuesto\n",
    "plot.frags.v2 <- plotGroups(\n",
    "  ArchRProj = project,  # Proyecto de ArchR que contiene los datos\n",
    "  groupBy = \"Sample\",  # Agrupar por muestra\n",
    "  colorBy = \"cellColData\",  # Colorear según los metadatos de las células\n",
    "  name = \"log10(nFrags)\",  # Usar log10 del número de fragmentos únicos como la característica a graficar\n",
    "  plotAs = \"violin\",  # Graficar como un gráfico de violín\n",
    "  alpha = 0.4,  # Establecer el nivel de transparencia\n",
    "  addBoxPlot = TRUE  # Superponer un gráfico de caja encima del gráfico de violín\n",
    ")\n",
    "\n",
    "# Mostrar ambos gráficos uno al lado del otro\n",
    "plot.frags.v1 | plot.frags.v2"
   ]
  },
  {
   "cell_type": "code",
   "execution_count": null,
   "metadata": {
    "colab": {
     "base_uri": "https://localhost:8080/"
    },
    "executionInfo": {
     "elapsed": 637,
     "status": "ok",
     "timestamp": 1690401115099,
     "user": {
      "displayName": "Adolfo Alexis Rojas Hidalgo",
      "userId": "18158766317608392773"
     },
     "user_tz": 240
    },
    "id": "vVWmr6HV67sh",
    "outputId": "e948daf8-1c26-4b28-931e-3239d7d7638f",
    "vscode": {
     "languageId": "r"
    }
   },
   "outputs": [],
   "source": [
    "# Crear archivos Arrow con filtros de calidad\n",
    "ArrowFiles <- createArrowFiles(\n",
    "  inputFiles = inputFiles,  # Lista de archivos de fragmentos para cada muestra\n",
    "  sampleNames = names(inputFiles),  # Asignar nombres de muestras basados en los nombres de los archivos\n",
    "  minTSS = 4,  # Puntaje mínimo de enriquecimiento del TSS para retener una célula\n",
    "  minFrags = 1000,  # Número mínimo de fragmentos únicos por célula\n",
    "  addTileMat = TRUE,  # Crear una matriz de tiles para la llamada de picos y otros análisis\n",
    "  addGeneScoreMat = TRUE  # Calcular los puntajes de actividad génica\n",
    ")\n"
   ]
  },
  {
   "cell_type": "markdown",
   "metadata": {
    "id": "YUGMvNhS67si"
   },
   "source": [
    "## 3. Doublet detection\n",
    "A source of trouble in single-cell data is the contribution of \"doublets\" to the analysis (a doublet refers to a single droplet that received more than one nucleus).\n",
    "To predict which “cells” are actually doublets, ArchR synthesizes in silico doublets from the data by mixing the reads from thousands of combinations of individual cells.\n",
    "It projects these synthetic doublets into the UMAP embedding and identify their nearest neighbor. By iterating this procedure thousands of times, it can identify “cells” in the data whose signal looks very similar to synthetic doublets.\n",
    "Here, we identify the doublets.\n"
   ]
  },
  {
   "cell_type": "code",
   "execution_count": null,
   "metadata": {
    "colab": {
     "base_uri": "https://localhost:8080/"
    },
    "executionInfo": {
     "elapsed": 296473,
     "status": "ok",
     "timestamp": 1690401411571,
     "user": {
      "displayName": "Adolfo Alexis Rojas Hidalgo",
      "userId": "18158766317608392773"
     },
     "user_tz": 240
    },
    "id": "XJuBiPPi67sj",
    "outputId": "09226f1c-1694-46c8-ee0c-430940aeab3f",
    "vscode": {
     "languageId": "r"
    }
   },
   "outputs": [],
   "source": [
    "# Calcular puntajes de dobles (doublets)\n",
    "doubletScores <- addDoubletScores(\n",
    "  input = ArrowFiles,  # Usar los archivos Arrow creados en el paso anterior\n",
    "  k = 10,  # Número de vecinos más cercanos a considerar para la detección de dobles\n",
    "  knnMethod = \"UMAP\",  # Usar la incrustación UMAP para la búsqueda de vecinos más cercanos\n",
    "  LSIMethod = 1  # Usar el método Latent Semantic Indexing (LSI) 1 para la estimación de dobles\n",
    ")"
   ]
  },
  {
   "cell_type": "markdown",
   "metadata": {
    "id": "czlwG2Kj67sj"
   },
   "source": [
    "## 4. Creation of ArchR project\n",
    "As explain before, we generate a ArchR project to easily manipulate the scATAC-seq generated by ArchR.\n"
   ]
  },
  {
   "cell_type": "code",
   "execution_count": null,
   "metadata": {
    "colab": {
     "base_uri": "https://localhost:8080/"
    },
    "executionInfo": {
     "elapsed": 9193,
     "status": "ok",
     "timestamp": 1690401420760,
     "user": {
      "displayName": "Adolfo Alexis Rojas Hidalgo",
      "userId": "18158766317608392773"
     },
     "user_tz": 240
    },
    "id": "XTbyNntf67sk",
    "outputId": "1265f822-8781-4734-a27a-78a8dd261fe0",
    "vscode": {
     "languageId": "r"
    }
   },
   "outputs": [],
   "source": [
    "# Crear un proyecto ArchR\n",
    "project <- ArchRProject(\n",
    "  ArrowFiles = ArrowFiles,  # Usar los archivos Arrow creados anteriormente\n",
    "  outputDirectory = \"Analysis_scATACseq\",  # Definir el directorio de salida para el proyecto\n",
    "  copyArrows = TRUE  # Mantener una copia de los archivos Arrow para futuras referencias\n",
    ")"
   ]
  },
  {
   "cell_type": "markdown",
   "metadata": {
    "id": "iJDwUVtg67sl"
   },
   "source": [
    "\n",
    "We can easily list the matrix items present in the project\n"
   ]
  },
  {
   "cell_type": "code",
   "execution_count": null,
   "metadata": {
    "colab": {
     "base_uri": "https://localhost:8080/",
     "height": 34
    },
    "executionInfo": {
     "elapsed": 266,
     "status": "ok",
     "timestamp": 1690401421025,
     "user": {
      "displayName": "Adolfo Alexis Rojas Hidalgo",
      "userId": "18158766317608392773"
     },
     "user_tz": 240
    },
    "id": "YnTmq-UZ67sl",
    "outputId": "369128bd-af1a-4ab2-ffb2-7cec1e8605cc",
    "vscode": {
     "languageId": "r"
    }
   },
   "outputs": [],
   "source": [
    "# Listar las matrices disponibles en el proyecto\n",
    "getAvailableMatrices(project)  # Ver qué matrices (por ejemplo, la matriz de puntajes génicos) están disponibles"
   ]
  },
  {
   "cell_type": "markdown",
   "metadata": {
    "id": "vDcEN2uI67so"
   },
   "source": [
    "Strict quality control (QC) of scATAC-seq data is essential to remove the contribution of low-quality cells.\n",
    "\n",
    "ArchR consider three characteristics of data:\n",
    "\n",
    "1. The fragment size distribution. Due to nucleosomal periodicity, we expect to see depletion of fragments that are the length of DNA wrapped around a nucleosome (approximately 147 bp).\n",
    "\n",
    "2. The TSS enrichment (signal-to-background ratio). Low signal-to-background ratio is often attributed to dead or dying cells which have de-chromatized DNA which allows for random transposition genome-wide.\n",
    "\n",
    "3. The number of unique nuclear fragments (i.e. not mapping to mitochondrial DNA).\n",
    "We can appreciate the QC and the main metrics of samples using some plots:\n",
    "\n",
    "Plot QC metrics:\n"
   ]
  },
  {
   "cell_type": "code",
   "execution_count": null,
   "metadata": {
    "colab": {
     "base_uri": "https://localhost:8080/",
     "height": 472
    },
    "executionInfo": {
     "elapsed": 4003,
     "status": "ok",
     "timestamp": 1690401425025,
     "user": {
      "displayName": "Adolfo Alexis Rojas Hidalgo",
      "userId": "18158766317608392773"
     },
     "user_tz": 240
    },
    "id": "qWubUqB_67so",
    "outputId": "37e2e135-16e8-4a51-c8aa-87536738ad92",
    "vscode": {
     "languageId": "r"
    }
   },
   "outputs": [],
   "source": [
    "# Graficar el enriquecimiento de TSS vs. el número de fragmentos\n",
    "df <- getCellColData(project, select = c(\"log10(nFrags)\", \"TSSEnrichment\"))  # Extraer metadatos\n",
    "\n",
    "plot.tss.frags <- ggPoint(\n",
    "  x = df[,1],  # Log10 del número de fragmentos únicos\n",
    "  y = df[,2],  # Puntaje de enriquecimiento del TSS\n",
    "  colorDensity = TRUE,  # Colorear según la densidad\n",
    "  continuousSet = \"sambaNight\",  # Usar la paleta de colores \"sambaNight\"\n",
    "  xlabel = \"Log10 Fragmentos Únicos\",  # Etiqueta del eje X\n",
    "  ylabel = \"Enriquecimiento del TSS\",  # Etiqueta del eje Y\n",
    "  xlim = c(log10(450), quantile(df[,1], probs = 1) + 0.1),  # Limitar los valores del eje X\n",
    "  ylim = c(0, quantile(df[,2], probs = 1) + 0.1)  # Limitar los valores del eje Y\n",
    ") +\n",
    "  geom_hline(yintercept = 4, lty = \"dashed\", col = \"black\") +  # Agregar línea horizontal en TSS = 4\n",
    "  geom_vline(xintercept = log10(1000), lty = \"dashed\", col = \"black\")  # Agregar línea vertical en 1000 fragmentos\n",
    "\n",
    "# Guardar el gráfico como un PDF en el directorio del proyecto\n",
    "plotPDF(plot.tss.frags, name = \"TSS-vs-Frags.pdf\", ArchRProj = project, addDOC = FALSE)\n",
    "\n",
    "# Mostrar el gráfico\n",
    "plot.tss.frags"
   ]
  },
  {
   "cell_type": "markdown",
   "metadata": {
    "id": "9F_qgLWn67sp"
   },
   "source": [
    "\n",
    "Plot TSS metrics:\n"
   ]
  },
  {
   "cell_type": "code",
   "execution_count": null,
   "metadata": {
    "colab": {
     "base_uri": "https://localhost:8080/",
     "height": 576
    },
    "executionInfo": {
     "elapsed": 858,
     "status": "ok",
     "timestamp": 1690401425874,
     "user": {
      "displayName": "Adolfo Alexis Rojas Hidalgo",
      "userId": "18158766317608392773"
     },
     "user_tz": 240
    },
    "id": "s4m56qeQ67sq",
    "outputId": "27fff413-3e2c-433b-dced-e0d251aefbe7",
    "vscode": {
     "languageId": "r"
    }
   },
   "outputs": [],
   "source": [
    "# Graficar distribuciones de enriquecimiento de TSS\n",
    "\n",
    "# Gráfico de surcos \"ridges\" del enriquecimiento de TSS por muestra\n",
    "plot.tss.v1 <- plotGroups(\n",
    "  ArchRProj = project, \n",
    "  groupBy = \"Sample\",  # Agrupar por muestra\n",
    "  colorBy = \"cellColData\",  # Usar metadatos de células para el color\n",
    "  name = \"TSSEnrichment\",  # Graficar puntajes de enriquecimiento de TSS\n",
    "  plotAs = \"ridges\"  # Usar un gráfico de surcos \"ridges\"\n",
    ")\n",
    "\n",
    "# Gráfico de violín del enriquecimiento de TSS por muestra con un gráfico de caja superpuesto\n",
    "plot.tss.v2 <- plotGroups(\n",
    "  ArchRProj = project, \n",
    "  groupBy = \"Sample\",  # Agrupar por muestra\n",
    "  colorBy = \"cellColData\",  # Usar metadatos de células para el color\n",
    "  name = \"TSSEnrichment\",  # Graficar puntajes de enriquecimiento de TSS\n",
    "  plotAs = \"violin\",  # Graficar como un gráfico de violín\n",
    "  alpha = 0.4,  # Establecer transparencia\n",
    "  addBoxPlot = TRUE  # Agregar un gráfico de caja superpuesto\n",
    ")\n",
    "\n",
    "# Mostrar los gráficos de ridges y violín uno al lado del otro\n",
    "plot.tss.v1 | plot.tss.v2"
   ]
  },
  {
   "cell_type": "markdown",
   "metadata": {
    "id": "kv9j4Qob67sq"
   },
   "source": [
    "\n",
    "Plot fragment metrics:\n"
   ]
  },
  {
   "cell_type": "code",
   "execution_count": null,
   "metadata": {
    "colab": {
     "base_uri": "https://localhost:8080/",
     "height": 576
    },
    "executionInfo": {
     "elapsed": 1084,
     "status": "ok",
     "timestamp": 1690401426956,
     "user": {
      "displayName": "Adolfo Alexis Rojas Hidalgo",
      "userId": "18158766317608392773"
     },
     "user_tz": 240
    },
    "id": "y9AqXR8o67sr",
    "outputId": "adc2a298-9903-4de2-e725-6ae7d7958bfd",
    "vscode": {
     "languageId": "r"
    }
   },
   "outputs": [],
   "source": [
    "# Graficar distribuciones de cuenta de fragmentos\n",
    "\n",
    "# Gráfico de surcos \"ridges\" de log10 de la cuenta de fragmentos por muestra\n",
    "plot.frags.v1 <- plotGroups(\n",
    "  ArchRProj = project, \n",
    "  groupBy = \"Sample\",  # Agrupar por muestra\n",
    "  colorBy = \"cellColData\",  # Usar metadatos de células para el color\n",
    "  name = \"log10(nFrags)\",  # Graficar log10 de la cuenta de fragmentos\n",
    "  plotAs = \"ridges\"  # Usar un gráfico de surcos \"ridges\"\n",
    ")\n",
    "\n",
    "# Gráfico de violín de log10 de la cuenta de fragmentos por muestra con un gráfico de caja superpuesto\n",
    "plot.frags.v2 <- plotGroups(\n",
    "  ArchRProj = project, \n",
    "  groupBy = \"Sample\",  # Agrupar por muestra\n",
    "  colorBy = \"cellColData\",  # Usar metadatos de células para el color\n",
    "  name = \"log10(nFrags)\",  # Graficar log10 de la cuenta de fragmentos\n",
    "  plotAs = \"violin\",  # Graficar como un gráfico de violín\n",
    "  alpha = 0.4,  # Establecer transparencia\n",
    "  addBoxPlot = TRUE  # Agregar un gráfico de caja superpuesto\n",
    ")\n",
    "\n",
    "# Mostrar los gráficos de ridges y violín uno al lado del otro\n",
    "plot.frags.v1 | plot.frags.v2"
   ]
  },
  {
   "cell_type": "markdown",
   "metadata": {
    "id": "WfNwsOQj67sr"
   },
   "source": [
    "\n",
    "Filter the doublets\n"
   ]
  },
  {
   "cell_type": "code",
   "execution_count": null,
   "metadata": {
    "colab": {
     "base_uri": "https://localhost:8080/"
    },
    "executionInfo": {
     "elapsed": 5,
     "status": "ok",
     "timestamp": 1690401426957,
     "user": {
      "displayName": "Adolfo Alexis Rojas Hidalgo",
      "userId": "18158766317608392773"
     },
     "user_tz": 240
    },
    "id": "63TKWnJt67sr",
    "outputId": "a30b39bc-d87d-4623-8921-dc0c0b80b1d7",
    "vscode": {
     "languageId": "r"
    }
   },
   "outputs": [],
   "source": [
    "# Filtrar dobles (doublets) del conjunto de datos\n",
    "project <- filterDoublets(ArchRProj = project)  # Eliminar dobles detectados para mantener solo células individuales\n"
   ]
  },
  {
   "cell_type": "markdown",
   "metadata": {
    "id": "W_reSrok67ss"
   },
   "source": [
    "\n",
    "Sample Fragment Size Distribution and TSS Enrichment Profiles\n"
   ]
  },
  {
   "cell_type": "code",
   "execution_count": null,
   "metadata": {
    "colab": {
     "base_uri": "https://localhost:8080/",
     "height": 888
    },
    "executionInfo": {
     "elapsed": 82572,
     "status": "ok",
     "timestamp": 1690401509525,
     "user": {
      "displayName": "Adolfo Alexis Rojas Hidalgo",
      "userId": "18158766317608392773"
     },
     "user_tz": 240
    },
    "id": "vL8kkUrr67ss",
    "outputId": "eb811dff-003e-44f3-85ce-858006cefc1e",
    "vscode": {
     "languageId": "r"
    }
   },
   "outputs": [],
   "source": [
    "# Graficar el perfil de enriquecimiento del Sitio de Inicio de Transcripción (TSS)\n",
    "plot.tss.v3 <- plotTSSEnrichment(ArchRProj = project)\n",
    "\n",
    "# Graficar la distribución del tamaño de fragmento\n",
    "plot.frags.v3 <- plotFragmentSizes(ArchRProj = project)\n",
    "\n",
    "# Mostrar ambos gráficos uno al lado del otro\n",
    "plot.frags.v3 | plot.tss.v3"
   ]
  },
  {
   "cell_type": "markdown",
   "metadata": {
    "id": "QXrfWICGif6w"
   },
   "source": [
    "## 5. Normalization, dimensional reduction, batch effect correction, clustering and others step"
   ]
  },
  {
   "cell_type": "markdown",
   "metadata": {
    "id": "DNvatcOQ67st"
   },
   "source": [
    "### 5.1. Normalization and dimensional reduction\n",
    "scATAC-seq generates a sparse insertion counts matrix (500-bp tiles; binary data of ~6 million of features) making it impossible to identify variable peaks for standard dimensionality reduction. To get around this issue, ArchR use LSI (Latent Semantic Indexing), a layered dimensionality reduction approach for sparse and noisy data.\n",
    "\n",
    "Rather than identifying the most variable peaks, ArchR tries using the most accessible features as input to LSI.\n",
    "\n",
    "However, when running multiple samples the results could shown high degrees of noise and low reproducibility.\n",
    "\n",
    "To remedy this, ArchR introduced the “iterative LSI” approach (Satpathy, Granja et al., 2019), which computes an initial LSI transformation on the most accessible tiles and identifies lower resolution clusters that are not batch confounded.\n",
    "\n",
    "1 - This approach computes an initial LSI transformation on the most accessible tiles and identifies lower resolution clusters that are not batch confounded.\n",
    "\n",
    "2 - ArchR computes the average accessibility for each of these clusters across all features. ArchR then identifies the most variable peaks across these clusters and uses these features for LSI again.\n",
    "\n",
    "3 - In this second iteration, the most variable peaks are more similar to the variable genes used in scRNA-seq LSI implementations.\n",
    "\n",
    "This approach minimizes observed batch effects and allow dimensionality reduction operations on a more reasonably sized feature matrix.\n",
    "<center>\n",
    "\n",
    "![](./Figures/iLSI.png)\n",
    "\n",
    "</center>\n"
   ]
  },
  {
   "cell_type": "code",
   "execution_count": null,
   "metadata": {
    "colab": {
     "base_uri": "https://localhost:8080/"
    },
    "executionInfo": {
     "elapsed": 145828,
     "status": "ok",
     "timestamp": 1690401655348,
     "user": {
      "displayName": "Adolfo Alexis Rojas Hidalgo",
      "userId": "18158766317608392773"
     },
     "user_tz": 240
    },
    "id": "JZ0IEM1967su",
    "outputId": "d7a523ad-7e83-47b8-e444-63e7f1eeec7e",
    "vscode": {
     "languageId": "r"
    }
   },
   "outputs": [],
   "source": [
    "# Agregar LSI iterativo al proyecto ArchR\n",
    "project_Normalized <- addIterativeLSI(ArchRProj = project, iterations = 2,\n",
    "                                      # Número de iteraciones para LSI; más iteraciones refinan el agrupamiento\n",
    "                                      # sampleCellsPre = 50000, # Opcional: número de células a usar en las iteraciones antes de la final\n",
    "                                      # clusterParams = list(resolution = 0.1, sampleCells = 50000, maxClusters = 6, n.start = 10),\n",
    "                                      # Los parámetros de agrupamiento se pueden ajustar para optimizar el agrupamiento\n",
    "                                      useMatrix = \"TileMatrix\", # Usar TileMatrix para LSI\n",
    "                                      name = \"IterativeLSI\", # Nombre de las dimensiones reducidas\n",
    "                                      varFeatures = 25000) # Número de características variables a usar para LSI"
   ]
  },
  {
   "cell_type": "markdown",
   "metadata": {
    "id": "sZwxfdVN67su"
   },
   "source": [
    "### 5.2. Batch effect correction\n",
    "Sometimes the iterative LSI approach isn’t enough to correct strong batch effect differences.\n",
    "For this reason, ArchR implements a commonly used batch effect correction tool called Harmony (Korsunsky et al., 2019) which was originally designed for scRNA-seq.\n"
   ]
  },
  {
   "cell_type": "code",
   "execution_count": null,
   "metadata": {
    "colab": {
     "base_uri": "https://localhost:8080/"
    },
    "executionInfo": {
     "elapsed": 4593,
     "status": "ok",
     "timestamp": 1690401659938,
     "user": {
      "displayName": "Adolfo Alexis Rojas Hidalgo",
      "userId": "18158766317608392773"
     },
     "user_tz": 240
    },
    "id": "KmVn_1Ye67sv",
    "outputId": "131f6284-6858-430e-861f-4fa41d9eb54f",
    "vscode": {
     "languageId": "r"
    }
   },
   "outputs": [],
   "source": [
    "# Realizar corrección de lotes usando Harmony sobre las dimensiones reducidas de LSI\n",
    "project_Normalized <- addHarmony(ArchRProj = project_Normalized, reducedDims = \"IterativeLSI\",\n",
    "                                 name = \"Harmony\", groupBy = \"Sample\")"
   ]
  },
  {
   "cell_type": "markdown",
   "metadata": {
    "id": "-_j0yh4B67sv"
   },
   "source": [
    "### 5.3. UMAP\n",
    "Run UMAP in ArchR\n"
   ]
  },
  {
   "cell_type": "code",
   "execution_count": null,
   "metadata": {
    "colab": {
     "base_uri": "https://localhost:8080/",
     "height": 0
    },
    "executionInfo": {
     "elapsed": 44537,
     "status": "ok",
     "timestamp": 1690401704472,
     "user": {
      "displayName": "Adolfo Alexis Rojas Hidalgo",
      "userId": "18158766317608392773"
     },
     "user_tz": 240
    },
    "id": "OpGaLbU467sw",
    "outputId": "ab12b084-f416-463a-92c3-c81a35f35370",
    "vscode": {
     "languageId": "r"
    }
   },
   "outputs": [],
   "source": [
    "# Calcular la incrustación de UMAP basada en las dimensiones de LSI iterativo\n",
    "project_Normalized <- addUMAP(ArchRProj = project_Normalized, reducedDims = \"IterativeLSI\", name = \"UMAP\")\n",
    "\n",
    "# Graficar UMAP coloreado por la identidad de la muestra\n",
    "plotEmbedding(ArchRProj = project_Normalized, colorBy = \"cellColData\", name = \"Sample\", embedding = \"UMAP\", size=0.1)\n",
    "\n",
    "# Calcular la incrustación de UMAP basada en las dimensiones de Harmony (después de la corrección de lotes)\n",
    "project_Normalized <- addUMAP(ArchRProj = project_Normalized, reducedDims = \"Harmony\", name = \"UMAP\", force=TRUE)\n",
    "\n",
    "# Graficar nuevamente el UMAP para visualizar la incrustación corregida por lotes\n",
    "plotEmbedding(ArchRProj = project_Normalized, colorBy = \"cellColData\", name = \"Sample\", embedding = \"UMAP\", size=0.1)"
   ]
  },
  {
   "cell_type": "markdown",
   "metadata": {
    "id": "NGja-Ldz67sw"
   },
   "source": [
    "### 5.4. Clustering\n",
    "To identify clusters, ArchR allows to use same method as Seurat or Scran. We have selected the same method describe the first day and used in Seurat package.\n"
   ]
  },
  {
   "cell_type": "code",
   "execution_count": null,
   "metadata": {
    "colab": {
     "base_uri": "https://localhost:8080/"
    },
    "executionInfo": {
     "elapsed": 108256,
     "status": "ok",
     "timestamp": 1690401812726,
     "user": {
      "displayName": "Adolfo Alexis Rojas Hidalgo",
      "userId": "18158766317608392773"
     },
     "user_tz": 240
    },
    "id": "A2wiA3RR67sx",
    "outputId": "ee70dbb9-e194-42d5-f8f7-12a55f8d7192",
    "vscode": {
     "languageId": "r"
    }
   },
   "outputs": [],
   "source": [
    "# Iterar sobre diferentes resoluciones de agrupamiento de 0.0 a 0.9\n",
    "for(i in seq(0,0.9,0.1)){\n",
    "  project_Normalized <- addClusters(input = project_Normalized, reducedDims = \"Harmony\",\n",
    "                                    method = \"Seurat\", # Método de agrupamiento (basado en Seurat)\n",
    "                                    name = paste(\"Clusters.res\",i,sep=\"\"), # Nombrar los grupos dinámicamente\n",
    "                                    resolution = i, # Establecer la resolución de agrupamiento\n",
    "                                    verbose = FALSE) # Suprimir salida detallada\n",
    "}"
   ]
  },
  {
   "cell_type": "markdown",
   "metadata": {
    "id": "Y3sQj-nr67sy"
   },
   "source": [
    "### 5.5. Save and load a project\n",
    "Save\n"
   ]
  },
  {
   "cell_type": "code",
   "execution_count": null,
   "metadata": {
    "colab": {
     "base_uri": "https://localhost:8080/",
     "height": 0
    },
    "executionInfo": {
     "elapsed": 3085,
     "status": "ok",
     "timestamp": 1690401815807,
     "user": {
      "displayName": "Adolfo Alexis Rojas Hidalgo",
      "userId": "18158766317608392773"
     },
     "user_tz": 240
    },
    "id": "RAc_Xnkp67sy",
    "outputId": "21a9ba6e-fb7c-4fb0-fdb1-6651374f5e88",
    "vscode": {
     "languageId": "r"
    }
   },
   "outputs": [],
   "source": [
    "# Guardar el estado actual del proyecto ArchR en el disco\n",
    "saveArchRProject(ArchRProj = project_Normalized,\n",
    "                 outputDirectory = file.path(getwd(),\"Analysis_scATACseq\"))"
   ]
  },
  {
   "cell_type": "markdown",
   "metadata": {
    "id": "83-7ykJD67sz"
   },
   "source": [
    "\n",
    "Load\n"
   ]
  },
  {
   "cell_type": "code",
   "execution_count": null,
   "metadata": {
    "colab": {
     "base_uri": "https://localhost:8080/"
    },
    "executionInfo": {
     "elapsed": 984,
     "status": "ok",
     "timestamp": 1690401816788,
     "user": {
      "displayName": "Adolfo Alexis Rojas Hidalgo",
      "userId": "18158766317608392773"
     },
     "user_tz": 240
    },
    "id": "XBdFi-vx67sz",
    "outputId": "06c899db-f988-404d-c4a8-d52a3b3869c2",
    "vscode": {
     "languageId": "r"
    }
   },
   "outputs": [],
   "source": [
    "# Cargar el proyecto ArchR guardado\n",
    "project_Normalized <- loadArchRProject(path = file.path(getwd(),\"Analysis_scATACseq\"),\n",
    "                                       force = TRUE, showLogo = FALSE)"
   ]
  },
  {
   "cell_type": "markdown",
   "metadata": {
    "id": "i4qJbc6D67sz"
   },
   "source": [
    "## 6. Exploration of data using Gene estimation\n",
    "\n",
    "\n"
   ]
  },
  {
   "cell_type": "markdown",
   "metadata": {
    "id": "M18unFqkiXGD"
   },
   "source": [
    "### 6.1. Visualization of clustering using Clustree\n",
    "Clustree is an useful tool to explore the links between the clusters from different resolutions."
   ]
  },
  {
   "cell_type": "code",
   "execution_count": null,
   "metadata": {
    "colab": {
     "base_uri": "https://localhost:8080/",
     "height": 0
    },
    "executionInfo": {
     "elapsed": 3614,
     "status": "ok",
     "timestamp": 1690401820400,
     "user": {
      "displayName": "Adolfo Alexis Rojas Hidalgo",
      "userId": "18158766317608392773"
     },
     "user_tz": 240
    },
    "id": "sMcOXcCn67s0",
    "outputId": "005c99c5-bd67-48e0-85b9-92ce06221991",
    "vscode": {
     "languageId": "r"
    }
   },
   "outputs": [],
   "source": [
    "# Extraer la información de agrupamiento del proyecto ArchR\n",
    "tmp.clustree.datatable <- as.data.frame(project_Normalized@cellColData)\n",
    "\n",
    "# Graficar un árbol de agrupamiento para visualizar las relaciones de agrupamiento a través de resoluciones\n",
    "clustree(tmp.clustree.datatable, prefix=\"Clusters.res\")"
   ]
  },
  {
   "cell_type": "markdown",
   "metadata": {
    "id": "gdtut7NG67s0"
   },
   "source": [
    "\n",
    "### 6.2. Visualization of clustering on UMAP\n"
   ]
  },
  {
   "cell_type": "code",
   "execution_count": null,
   "metadata": {
    "colab": {
     "base_uri": "https://localhost:8080/",
     "height": 0
    },
    "executionInfo": {
     "elapsed": 50600,
     "status": "ok",
     "timestamp": 1690401870997,
     "user": {
      "displayName": "Adolfo Alexis Rojas Hidalgo",
      "userId": "18158766317608392773"
     },
     "user_tz": 240
    },
    "id": "okCN6OJO67s1",
    "outputId": "a4eaed9d-150e-4596-c3ed-bf2f3615fbdb",
    "vscode": {
     "languageId": "r"
    }
   },
   "outputs": [],
   "source": [
    "# Iterar sobre diferentes resoluciones de agrupamiento y visualizar las incrustaciones de UMAP\n",
    "for(i in seq(0,0.9,0.1)){\n",
    "  # Graficar UMAP con etiquetas de agrupamiento\n",
    "  plot.umap.resi <- plotEmbedding(ArchRProj = project_Normalized, \n",
    "                                  colorBy = \"cellColData\", \n",
    "                                  name = paste(\"Clusters.res\",i,sep=\"\"), \n",
    "                                  embedding = \"UMAP\", size=0.1)\n",
    "  \n",
    "  # Graficar UMAP sin etiquetas de agrupamiento\n",
    "  plot.umap.woLabel.resi <- plotEmbedding(ArchRProj = project_Normalized, \n",
    "                                          colorBy = \"cellColData\", \n",
    "                                          name = paste(\"Clusters.res\",i,sep=\"\"), \n",
    "                                          embedding = \"UMAP\", size=0.1, \n",
    "                                          labelMeans=FALSE)\n",
    "\n",
    "  # Mostrar ambos gráficos uno al lado del otro\n",
    "  print(plot.umap.resi | plot.umap.woLabel.resi)\n",
    "}"
   ]
  },
  {
   "cell_type": "markdown",
   "metadata": {
    "id": "fdcPe0iF67s1"
   },
   "source": [
    "### 6.3. Characterization of clusters\n",
    "At this step, we select a specific resolution to explore in details the GeneScore to characterize the different clusters.\n",
    "For that, we will identify marker genes (based on gene scores, or estimation of gene expression) of clusters.\n",
    "In short, ArchR estimates gene scores using the local accessibility of the gene region that includes the promoter and gene body, but imposes an exponential weight that accounts for the activity of putative distal regulatory elements as a function of distance.\n",
    "\n",
    "![<i><font size=1 color=\"grey\">from ArchR manual</font></i>](./Figures/GeneActivityScore_Schematic.png){width=70% height=50%}\n",
    "\n",
    "Remarks: ArchR can used gene, peak or transcription factor motif features. Here, ArchR identify the genes that appear to be uniquely active in each cluster at the resolution 0.4.\n"
   ]
  },
  {
   "cell_type": "code",
   "execution_count": null,
   "metadata": {
    "colab": {
     "base_uri": "https://localhost:8080/",
     "height": 0
    },
    "executionInfo": {
     "elapsed": 392436,
     "status": "ok",
     "timestamp": 1690402263429,
     "user": {
      "displayName": "Adolfo Alexis Rojas Hidalgo",
      "userId": "18158766317608392773"
     },
     "user_tz": 240
    },
    "id": "NK7b6n9Z67s1",
    "outputId": "483ebe6c-20c4-4b9e-ef50-24bfd708557c",
    "vscode": {
     "languageId": "r"
    }
   },
   "outputs": [],
   "source": [
    "slct.res = \"res0.7\" # Seleccionar resolución para el análisis\n",
    "\n",
    "# Identificar genes marcadores utilizando la matriz de puntajes de genes\n",
    "markersGS.slctRes <- getMarkerFeatures(ArchRProj = project_Normalized,\n",
    "                                       useMatrix = \"GeneScoreMatrix\",\n",
    "                                       groupBy = paste(\"Clusters.\",slct.res,sep=\"\"),\n",
    "                                       bias = c(\"TSSEnrichment\", \"log10(nFrags)\"),\n",
    "                                       testMethod = \"wilcoxon\") # Realizar la prueba de Wilcoxon\n",
    "\n",
    "# Extraer genes marcadores con FDR ≤ 0.05 y Log2 Fold Change ≥ 0.2\n",
    "markerList <- getMarkers(markersGS.slctRes, cutOff = \"FDR <= 0.05 & Log2FC >= 0.2\")\n",
    "\n",
    "# Mostrar los genes marcadores para el primer grupo\n",
    "i = names(markerList)[1]\n",
    "markerList[[i]]\n",
    "\n",
    "# Guardar los genes marcadores para cada grupo\n",
    "for(i in names(markerList)){\n",
    "  write.table(markerList[[i]], sep=\"\\t\", row.names=FALSE, col.names=TRUE, quote=FALSE,\n",
    "              file=file.path(work_dir, paste(i, \".res\", slct.res, \".mGenesList.tsv\", sep=\"\")))\n",
    "}"
   ]
  },
  {
   "cell_type": "markdown",
   "metadata": {
    "id": "D8gJrYOa67s2"
   },
   "source": [
    "\n",
    "To visualize the marker genes, we can produce a heatmap:\n"
   ]
  },
  {
   "cell_type": "code",
   "execution_count": null,
   "metadata": {
    "colab": {
     "base_uri": "https://localhost:8080/",
     "height": 0
    },
    "executionInfo": {
     "elapsed": 6862,
     "status": "ok",
     "timestamp": 1690402270287,
     "user": {
      "displayName": "Adolfo Alexis Rojas Hidalgo",
      "userId": "18158766317608392773"
     },
     "user_tz": 240
    },
    "id": "jJQbmqaZ67s2",
    "outputId": "43dac0b6-10d3-4bfa-aa5b-2de4f07824a6",
    "vscode": {
     "languageId": "r"
    }
   },
   "outputs": [],
   "source": [
    "# Definir genes marcadores clave\n",
    "markerGenes <- c(\"EPCAM\", \"VIM\", \"FLT4\", \"THY1\", \"CD3D\", \"PECAM1\", \"CD38\", \"PAX5\",\n",
    "                 \"MS4A1\", \"CD14\", \"ITGAX\", \"CD4\", \"CD8A\", \"GZMA\")\n",
    "\n",
    "# Generar un mapa de calor de los puntajes de los genes\n",
    "heatmapGS <- plotMarkerHeatmap(seMarker = markersGS.slctRes,\n",
    "                               cutOff = \"FDR <= 0.05 & Log2FC >= 1\",\n",
    "                               labelMarkers = markerGenes,\n",
    "                               transpose = FALSE)\n",
    "\n",
    "# Mostrar el mapa de calor\n",
    "heatmapGS\n",
    "\n",
    "# Recuperar la matriz del mapa de calor\n",
    "heatmapGSmatrix <- plotMarkerHeatmap(seMarker = markersGS.slctRes,\n",
    "                                     cutOff = \"FDR <= 0.05 & Log2FC >= 1\",\n",
    "                                     labelMarkers = markerGenes,\n",
    "                                     returnMatrix = TRUE,\n",
    "                                     transpose = FALSE)\n",
    "\n",
    "# Mostrar las primeras 10 filas de la matriz del mapa de calor\n",
    "head(heatmapGSmatrix, 10)\n",
    "\n",
    "# Guardar la matriz del mapa de calor\n",
    "write.table(cbind(Cluster=rownames(heatmapGSmatrix), heatmapGSmatrix), sep=\"\\t\",\n",
    "            row.names=FALSE, col.names=TRUE, quote=FALSE,\n",
    "            file=file.path(work_dir, paste(\"GeneScores-Marker-Heatmap\", slct.res, sep=\".\")))"
   ]
  },
  {
   "cell_type": "markdown",
   "metadata": {
    "id": "KuXuFS8E67s3"
   },
   "source": [
    "\n",
    "Or visualize GeneScore of marker genes in UMAP\n"
   ]
  },
  {
   "cell_type": "code",
   "execution_count": null,
   "metadata": {
    "colab": {
     "base_uri": "https://localhost:8080/",
     "height": 0
    },
    "executionInfo": {
     "elapsed": 7840,
     "status": "ok",
     "timestamp": 1690402278124,
     "user": {
      "displayName": "Adolfo Alexis Rojas Hidalgo",
      "userId": "18158766317608392773"
     },
     "user_tz": 240
    },
    "id": "eamIRAx467s3",
    "outputId": "11facd1d-65a3-4f6c-9ac0-23f4932120d6",
    "vscode": {
     "languageId": "r"
    }
   },
   "outputs": [],
   "source": [
    "# Graficar UMAP de puntajes de genes sin la imputación MAGIC\n",
    "plot.GS.woMAGIC <- plotEmbedding(ArchRProj = project_Normalized, \n",
    "                                 colorBy = \"GeneScoreMatrix\", \n",
    "                                 name = markerGenes, embedding = \"UMAP\", \n",
    "                                 quantCut = c(0.01, 0.95), \n",
    "                                 imputeWeights = NULL)\n",
    "\n",
    "# Mostrar genes seleccionados\n",
    "plot.GS.woMAGIC$VIM | plot.GS.woMAGIC$EPCAM"
   ]
  },
  {
   "cell_type": "markdown",
   "metadata": {
    "id": "ExPmw32r67s4"
   },
   "source": [
    "However, scATAC-seq data is really sparse. Due to that, it is highly suggest to use MAGIC (van Dijk, et al., 2018), which add an imputation weight to the gene scores by smoothing signal across nearby cells.\n",
    "\n"
   ]
  },
  {
   "cell_type": "code",
   "execution_count": null,
   "metadata": {
    "colab": {
     "base_uri": "https://localhost:8080/",
     "height": 0
    },
    "executionInfo": {
     "elapsed": 43720,
     "status": "ok",
     "timestamp": 1690402321840,
     "user": {
      "displayName": "Adolfo Alexis Rojas Hidalgo",
      "userId": "18158766317608392773"
     },
     "user_tz": 240
    },
    "id": "yMWJ9UKj67s4",
    "outputId": "34f0e2b3-c960-4de9-b3c2-5a19bb26688b",
    "vscode": {
     "languageId": "r"
    }
   },
   "outputs": [],
   "source": [
    "# Aplicar MAGIC para imputación de genes\n",
    "project_Normalized <- addImputeWeights(project_Normalized)\n",
    "\n",
    "# Graficar UMAP de puntajes de genes con imputación\n",
    "plot.GS <- plotEmbedding(ArchRProj = project_Normalized, colorBy = \"GeneScoreMatrix\",\n",
    "                         name = markerGenes,\n",
    "                         embedding = \"UMAP\",\n",
    "                         imputeWeights = getImputeWeights(project_Normalized))\n",
    "\n",
    "plot.GS$VIM | plot.GS$EPCAM\n",
    "plot.GS$FLT4 | plot.GS$THY1\n",
    "plot.GS$ITGAX | plot.GS$CD14\n",
    "plot.GS$MS4A1 | plot.GS$CD38\n",
    "plot.GS$CD3D | plot.GS$CD8A\n",
    "plot.GS$CD4 | plot.GS$GZMA"
   ]
  },
  {
   "cell_type": "markdown",
   "metadata": {
    "id": "nh7kBGEl67s4"
   },
   "source": [
    "## 7. scATAC-scRNAseq integration\n",
    "ArchR enables integration with scRNA-seq, offers the possibility to use clusters called in scRNA-seq space or use the gene expression measurements after integration.\n",
    "\n",
    "The way this integration works is by directly aligning cells from scATAC-seq with cells from scRNA-seq by comparing the scATAC-seq gene score matrix with the scRNA-seq gene expression matrix. This alignment is performed using the FindTransferAnchors() function from the Seurat package which allows you to align data across two datasets.\n",
    "\n",
    "However, to appropriately scale this procedure for hundreds of thousands of cells ArchR provides, a parallelization of this procedure by dividing the total cells into smaller groups of cells and performing separate alignments."
   ]
  },
  {
   "cell_type": "code",
   "execution_count": null,
   "metadata": {
    "executionInfo": {
     "elapsed": 9,
     "status": "ok",
     "timestamp": 1690402321841,
     "user": {
      "displayName": "Adolfo Alexis Rojas Hidalgo",
      "userId": "18158766317608392773"
     },
     "user_tz": 240
    },
    "id": "Mg9RR6Dq67s5",
    "vscode": {
     "languageId": "r"
    }
   },
   "outputs": [],
   "source": [
    "# Importar datos de scRNAseq\n",
    "scRNA<-readRDS(file.path(work_dir,\"scRNAseq.data.rds\"))\n",
    "DefaultAssay(object = scRNA) <- \"RNA\"\n",
    "\n",
    "# Integrar datos de scRNA-seq y scATAC-seq\n",
    "project_Normalized <- addGeneIntegrationMatrix(ArchRProj = project_Normalized,\n",
    "    useMatrix = \"GeneScoreMatrix\", matrixName = \"GeneIntegrationMatrix\",\n",
    "    reducedDims = \"Harmony\", # Usando el método de reducción de dimensiones Harmony (alternativamente, IterativeLSI)\n",
    "    seRNA = scRNA, addToArrow = TRUE, force= TRUE,\n",
    "    groupRNA = \"integrated_snn_res.0.5\",  # Agrupar las celdas con una resolución de 0.5\n",
    "    nameCell = \"predictedCell\", nameGroup = \"predictedGroup\", nameScore = \"predictedScore\",\n",
    "    sampleCellsATAC = 10000, sampleCellsRNA = 10000, scaleTo = 10000)  # Normalización y asignación de pesos\n",
    "project_Normalized <- addImputeWeights(project_Normalized)  # Añadir pesos de imputación para mejorar el análisis posterior\n",
    "\n",
    "saveArchRProject(ArchRProj = project_Normalized, load = FALSE)  # Guardar el proyecto de ArchR\n",
    "\n",
    "# Crear un gráfico de UMAP de las celdas integradas por el grupo predicho\n",
    "plot_rna.woLabel <- plotEmbedding(project_Normalized,colorBy = \"cellColData\",name = \"predictedGroup\", embedding = \"UMAP\", size=1, labelMeans=FALSE)\n",
    "plot_rna <- plotEmbedding(project_Normalized,colorBy = \"cellColData\",name = \"predictedGroup\", embedding = \"UMAP\", size=1)\n",
    "\n",
    "# Crear una tabla de confusión entre los datos de scRNA-seq y scATAC-seq\n",
    "cM <- as.matrix(confusionMatrix(project$Clusters.res0.7,                # Resolución de agrupamiento\n",
    "                                project$predictedGroup))                # Grupo predicho\n"
   ]
  },
  {
   "cell_type": "markdown",
   "metadata": {
    "id": "yum_aHNc67s5"
   },
   "source": [
    "## 8. Peak calling\n",
    "Calling peaks is one of the most fundamental processes in ATAC-seq data analysis.\n",
    "Because per-cell scATAC-seq data is essentially binary (accessible or not accessible), we perform calling peaks on groups of similar cells (or clusters) define previously.\n",
    "\n",
    "ArchR applies a Iterative Overlap Peak Merging Procedure with the recommanded MACS2 peak caller (Zhang et al., 2008).\n",
    "\n",
    "It uses a function to perform this iterative overlap peak merging procedure:\n",
    "\n",
    "1. ArchR would call peaks for each pseudo-bulk replicate individually.\n",
    "\n",
    "2. ArchR would analyze all of the pseudo-bulk replicates from a single cell type together, performing the first iteration of iterative overlap removal.\n",
    "\n",
    "3. After the first iteration of iterative overlap removal, ArchR checks to see the reproducibility of each peak across pseudo-bulk replicates and only keeps peaks that pass a threshold indicated by the reproducibility parameter.\n",
    "\n",
    "4. At the end of this process, we would have a single merged peak set for each cell types.\n",
    "\n",
    "\n"
   ]
  },
  {
   "cell_type": "markdown",
   "metadata": {
    "id": "Mumkz81uhz6x"
   },
   "source": [
    "### 8.1. Creation of the pseudo-bulk replicates"
   ]
  },
  {
   "cell_type": "code",
   "execution_count": null,
   "metadata": {
    "colab": {
     "base_uri": "https://localhost:8080/"
    },
    "executionInfo": {
     "elapsed": 1610618,
     "status": "ok",
     "timestamp": 1690403932450,
     "user": {
      "displayName": "Adolfo Alexis Rojas Hidalgo",
      "userId": "18158766317608392773"
     },
     "user_tz": 240
    },
    "id": "5KM_d_P967s6",
    "outputId": "f25bffdb-18fc-4309-99fa-ade38c81211a",
    "vscode": {
     "languageId": "r"
    }
   },
   "outputs": [],
   "source": [
    "# Determinar el número de réplicas para el cálculo de cobertura\n",
    "nbReplicates = ifelse(length(names(table(project_Normalized$Sample))) > 5, \n",
    "                      length(names(table(project_Normalized$Sample))), 5)  # Usar al menos 5 réplicas\n",
    "\n",
    "# Añadir información de cobertura de grupo al proyecto de ArchR\n",
    "project_Peaks <- addGroupCoverages(\n",
    "    ArchRProj = project_Normalized, \n",
    "    maxReplicates = nbReplicates, \n",
    "    groupBy = paste(\"Clusters\", slct.res, sep = \".\")  # Agrupar según resolución seleccionada\n",
    ")"
   ]
  },
  {
   "cell_type": "markdown",
   "metadata": {
    "id": "XMfY2gdT67s6"
   },
   "source": [
    "### 8.2. Perform peak calling\n"
   ]
  },
  {
   "cell_type": "code",
   "execution_count": null,
   "metadata": {
    "colab": {
     "base_uri": "https://localhost:8080/",
     "height": 0
    },
    "executionInfo": {
     "elapsed": 937861,
     "status": "ok",
     "timestamp": 1690404870307,
     "user": {
      "displayName": "Adolfo Alexis Rojas Hidalgo",
      "userId": "18158766317608392773"
     },
     "user_tz": 240
    },
    "id": "j3ffFJ-z67s7",
    "outputId": "b9314e08-56c2-4d9d-8b00-59e86efda5b6",
    "vscode": {
     "languageId": "r"
    }
   },
   "outputs": [],
   "source": [
    "# Encontrar la ruta de MACS2 (herramienta para llamada de picos)\n",
    "pathToMacs2 <- findMacs2()\n",
    "\n",
    "# Realizar llamada de picos usando MACS2\n",
    "project_Peaks <- addReproduciblePeakSet(\n",
    "    ArchRProj = project_Peaks,\n",
    "    groupBy = paste(\"Clusters\", slct.res, sep = \".\"),\n",
    "    pathToMacs2 = pathToMacs2\n",
    ")\n",
    "\n",
    "# Método alternativo para llamada de picos (si MACS2 no está disponible)\n",
    "# project_Peaks <- addReproduciblePeakSet(\n",
    "#     ArchRProj = project_Peaks,\n",
    "#     groupBy = paste(\"Clusters\", slct.res, sep = \".\"),\n",
    "#     peakMethod = \"Tiles\",  # Método alternativo\n",
    "#     method = \"p\"\n",
    "# )\n",
    "\n",
    "# Obtener el conjunto de picos después de la llamada de picos\n",
    "getPeakSet(project_Peaks)\n",
    "\n",
    "# Añadir pesos de imputación para mejorar los análisis posteriores\n",
    "project_Peaks <- addImputeWeights(project_Peaks)\n",
    "\n",
    "# Guardar el proyecto de ArchR con los resultados de la llamada de picos\n",
    "saveArchRProject(\n",
    "    ArchRProj = project_Peaks,\n",
    "    outputDirectory = file.path(getwd(), \"Analysis_scATACseq\"), \n",
    "    load = TRUE\n",
    ")"
   ]
  },
  {
   "cell_type": "markdown",
   "metadata": {
    "id": "blFYahGC67s7"
   },
   "source": [
    "### 8.3. Identification of marker peaks\n",
    "As explained before for the marker genes, ArchR can used gene, peak or transcription factor motif features. Here, ArchR identify the peaks that appear to be uniquely active in each cluster at selected resolution.\n"
   ]
  },
  {
   "cell_type": "code",
   "execution_count": null,
   "metadata": {
    "colab": {
     "base_uri": "https://localhost:8080/",
     "height": 0
    },
    "executionInfo": {
     "elapsed": 593819,
     "status": "ok",
     "timestamp": 1690405464114,
     "user": {
      "displayName": "Adolfo Alexis Rojas Hidalgo",
      "userId": "18158766317608392773"
     },
     "user_tz": 240
    },
    "id": "EdI98Eo567s8",
    "outputId": "05260189-83dc-4ce5-dd60-c9e83a43562d",
    "vscode": {
     "languageId": "r"
    }
   },
   "outputs": [],
   "source": [
    "# Generar una matriz de picos para la cuantificación de accesibilidad\n",
    "project_Peaks <- addPeakMatrix(project_Peaks)\n",
    "\n",
    "# Identificar picos marcadores para cada clúster usando la prueba de Wilcoxon\n",
    "markersPeaks <- getMarkerFeatures(\n",
    "    ArchRProj = project_Peaks,\n",
    "    useMatrix = \"PeakMatrix\",  # Usar la matriz de picos\n",
    "    groupBy = paste(\"Clusters\", slct.res, sep = \".\"),\n",
    "    bias = c(\"TSSEnrichment\", \"log10(nFrags)\"),  # Ajustar por sesgos\n",
    "    testMethod = \"wilcoxon\"  # Usar prueba de Wilcoxon\n",
    ")\n",
    "\n",
    "# Extraer picos significativamente diferentes (FDR <= 0.01, Log2FC >= 1)\n",
    "markerList <- getMarkers(markersPeaks, cutOff = \"FDR <= 0.01 & Log2FC >= 1\")\n",
    "\n",
    "# Ver los picos marcadores para el agrupamiento (clúster) C9\n",
    "markerList[[\"C9\"]]"
   ]
  },
  {
   "cell_type": "markdown",
   "metadata": {
    "id": "aKRkEuHK67s8"
   },
   "source": [
    "\n",
    "To visualize the marker genes, we can produce a heatmap:\n"
   ]
  },
  {
   "cell_type": "code",
   "execution_count": null,
   "metadata": {
    "colab": {
     "base_uri": "https://localhost:8080/",
     "height": 0
    },
    "executionInfo": {
     "elapsed": 8940,
     "status": "ok",
     "timestamp": 1690405473049,
     "user": {
      "displayName": "Adolfo Alexis Rojas Hidalgo",
      "userId": "18158766317608392773"
     },
     "user_tz": 240
    },
    "id": "oHt82gdh67s9",
    "outputId": "50f4bba0-09ac-4716-b927-ee9bf5b3a239",
    "vscode": {
     "languageId": "r"
    }
   },
   "outputs": [],
   "source": [
    "# Generar un mapa de calor de picos marcadores (umbral menos estricto)\n",
    "heatmapPeaks <- plotMarkerHeatmap(\n",
    "    seMarker = markersPeaks,\n",
    "    cutOff = \"FDR <= 0.1 & Log2FC >= 0.5\",\n",
    "    transpose = FALSE\n",
    ")\n",
    "\n",
    "# Mostrar el mapa de calor\n",
    "heatmapPeaks"
   ]
  },
  {
   "cell_type": "markdown",
   "metadata": {
    "id": "-N6b7fh667s9"
   },
   "source": [
    "\n",
    "Or MA and volcano plots of marker peaks by cluster:\n"
   ]
  },
  {
   "cell_type": "code",
   "execution_count": null,
   "metadata": {
    "colab": {
     "base_uri": "https://localhost:8080/",
     "height": 0
    },
    "executionInfo": {
     "elapsed": 23360,
     "status": "ok",
     "timestamp": 1690405496407,
     "user": {
      "displayName": "Adolfo Alexis Rojas Hidalgo",
      "userId": "18158766317608392773"
     },
     "user_tz": 240
    },
    "id": "mpUkieM467s9",
    "outputId": "faa798c6-e1f5-455f-c0fc-776b631dd80e",
    "vscode": {
     "languageId": "r"
    }
   },
   "outputs": [],
   "source": [
    "# Generar gráficos MA y Volcano para el agrupamiento (clúster) C9\n",
    "map <- plotMarkers(\n",
    "    seMarker = markersPeaks, \n",
    "    name = \"C9\",\n",
    "    cutOff = \"FDR <= 0.1 & Log2FC >= 1\",  # Umbral predeterminado\n",
    "    plotAs = \"MA\"\n",
    ")\n",
    "\n",
    "vp <- plotMarkers(\n",
    "    seMarker = markersPeaks, \n",
    "    name = \"C9\",\n",
    "    cutOff = \"FDR <= 0.1 & Log2FC >= 1\",  # Umbral predeterminado\n",
    "    plotAs = \"Volcano\"\n",
    ")\n",
    "\n",
    "# Combinar ambos gráficos\n",
    "map | vp"
   ]
  },
  {
   "cell_type": "markdown",
   "metadata": {
    "id": "mVncriDL67s-"
   },
   "source": [
    "\n",
    "Or visualize the marker peaks on a browser track:\n"
   ]
  },
  {
   "cell_type": "code",
   "execution_count": null,
   "metadata": {
    "colab": {
     "base_uri": "https://localhost:8080/"
    },
    "executionInfo": {
     "elapsed": 7299,
     "status": "ok",
     "timestamp": 1690405503700,
     "user": {
      "displayName": "Adolfo Alexis Rojas Hidalgo",
      "userId": "18158766317608392773"
     },
     "user_tz": 240
    },
    "id": "7j5H392267s-",
    "outputId": "b47b1b98-c356-447c-c8f9-41d0b06b9df5",
    "vscode": {
     "languageId": "r"
    }
   },
   "outputs": [],
   "source": [
    "# Generar una visualización de la pista del navegador para CD4\n",
    "plot.track1 <- plotBrowserTrack(\n",
    "    ArchRProj = project_Peaks,\n",
    "    groupBy = paste(\"Clusters\", slct.res, sep = \".\"),\n",
    "    geneSymbol = c(\"CD4\"),\n",
    "    features = getMarkers(markersPeaks, cutOff = \"FDR <= 0.1 & Log2FC >= 1\", returnGR = TRUE)[\"C9\"],\n",
    "    upstream = 50000, downstream = 50000\n",
    ")\n",
    "\n",
    "# Mostrar la pista\n",
    "grid::grid.newpage()\n",
    "grid::grid.draw(plot.track1$CD8A)"
   ]
  },
  {
   "cell_type": "code",
   "execution_count": null,
   "metadata": {
    "executionInfo": {
     "elapsed": 8092,
     "status": "ok",
     "timestamp": 1690405511789,
     "user": {
      "displayName": "Adolfo Alexis Rojas Hidalgo",
      "userId": "18158766317608392773"
     },
     "user_tz": 240
    },
    "id": "x22_-P7twZri",
    "vscode": {
     "languageId": "r"
    }
   },
   "outputs": [],
   "source": [
    "# Guardar el objeto y descargarlo!\n",
    "saveRDS(project_Peaks,\"project_Peaks.rds\")\n",
    "saveRDS(markersPeaks,\"markersPeaks.rds\")"
   ]
  },
  {
   "cell_type": "markdown",
   "metadata": {
    "id": "JvTmyst767s_"
   },
   "source": [
    "## 9. Motif Enrichment\n",
    "After identified peak sets, the next step is to predict what transcription factors (TFs) may be mediating the binding events that create those accessible chromatin sites.\n",
    "\n",
    "ArchR allow to annotate the TF motifs that are enriched in peaks that are up or down in the different cell types.\n",
    "\n",
    "Firstly, we add motif annotations to our ArchRProject based on a reference database (for example: CIS-BP, JASPAR, Encode or Homer). \n",
    "\n",
    "Here, we have selected CIS-BP which contains > 300 TF families from > 700 species collecting from > 70 sources , including other databases: Transfac, JASPAR, Hocomoco, FactorBook, UniProbe, among others.\n",
    "\n",
    "Next, we test the set of significantly differential peaks for motif enrichment.\n"
   ]
  },
  {
   "cell_type": "code",
   "execution_count": null,
   "metadata": {
    "colab": {
     "base_uri": "https://localhost:8080/"
    },
    "executionInfo": {
     "elapsed": 4339,
     "status": "ok",
     "timestamp": 1690405516116,
     "user": {
      "displayName": "Adolfo Alexis Rojas Hidalgo",
      "userId": "18158766317608392773"
     },
     "user_tz": 240
    },
    "id": "UsnG1wu-UODF",
    "outputId": "da7d3a9f-405f-47a6-f2f6-fad9c8033ef2",
    "vscode": {
     "languageId": "r"
    }
   },
   "outputs": [],
   "source": [
    "# Descargar y recargar datos si es necesario\n",
    "shell_call(\"gdown 1SdSmF9R3yHNWacmFf22RxpcrrKmUHM_b\")\n",
    "markersPeaks = readRDS(\"markersPeaks.rds\")\n",
    "\n",
    "shell_call(\"gdown 1S6fRM7_KX4kjd9ankvzA5HloJJSIM4bn\")\n",
    "project_Peaks = readRDS(\"project_Peaks.rds\")"
   ]
  },
  {
   "cell_type": "code",
   "execution_count": null,
   "metadata": {
    "colab": {
     "base_uri": "https://localhost:8080/",
     "height": 305
    },
    "executionInfo": {
     "elapsed": 3275,
     "status": "error",
     "timestamp": 1690405519381,
     "user": {
      "displayName": "Adolfo Alexis Rojas Hidalgo",
      "userId": "18158766317608392773"
     },
     "user_tz": 240
    },
    "id": "dMFgBhd-67s_",
    "outputId": "d2dbb482-8001-4d2f-f0a8-3205fa3d1453",
    "vscode": {
     "languageId": "r"
    }
   },
   "outputs": [],
   "source": [
    "## Enriquecimiento de motivos\n",
    "project_Peaks <- addMotifAnnotations(ArchRProj = project_Peaks, motifSet = \"cisbp\", name = \"Motif\", force = TRUE)\n",
    "\n",
    "# Enriquecimiento de motivos en picos marcadores\n",
    "enrichMotifs <- peakAnnoEnrichment(\n",
    "    seMarker = markersPeaks, ArchRProj = project_Peaks,\n",
    "    peakAnnotation = \"Motif\",cutOff = \"FDR <= 0.1 & Log2FC >= 0.5\")        # Umbral predeterminado\n",
    "\n",
    "# Mostrar la matriz de enriquecimiento y la matriz de p-valor\n",
    "head(enrichMotifs@assays@data$Enrichment,10)"
   ]
  },
  {
   "cell_type": "markdown",
   "metadata": {
    "id": "HyE1Hvel67s_"
   },
   "source": [
    "We can display a heatmap to visualize the main motifs of each clusters.\n"
   ]
  },
  {
   "cell_type": "code",
   "execution_count": null,
   "metadata": {
    "executionInfo": {
     "elapsed": 4552611,
     "status": "aborted",
     "timestamp": 1690405518811,
     "user": {
      "displayName": "Adolfo Alexis Rojas Hidalgo",
      "userId": "18158766317608392773"
     },
     "user_tz": 240
    },
    "id": "9ApCDqtt67tA",
    "vscode": {
     "languageId": "r"
    }
   },
   "outputs": [],
   "source": [
    "# Graficar un mapa de calor de motivos enriquecidos\n",
    "heatmapEM <- plotEnrichHeatmap(enrichMotifs, n = 7, transpose = TRUE)\n",
    "ComplexHeatmap::draw(heatmapEM, heatmap_legend_side = \"bot\", annotation_legend_side = \"bot\")"
   ]
  },
  {
   "cell_type": "markdown",
   "metadata": {
    "id": "cddoI56t67tA"
   },
   "source": [
    "### 9.1. ChromVAR and visualization of motif deviation\n",
    "ChromVAR, developed by Greenleaf lab, is designed for predicting enrichment of TF activity on a per-cell basis from sparse chromatin accessibility data.\n",
    "ChromVAR computes:\n",
    "1. A “deviation”, which is a bias-corrected measurement of how far the per-cell accessibility of a given feature (i.e motif) deviates from the expected accessibility based on the average of all cells or samples.\n",
    "2. A “z-score” / a “deviation score”, which is the z-score for each bias-corrected deviation across all cells.\n"
   ]
  },
  {
   "cell_type": "code",
   "execution_count": null,
   "metadata": {
    "executionInfo": {
     "elapsed": 4552610,
     "status": "aborted",
     "timestamp": 1690405518812,
     "user": {
      "displayName": "Adolfo Alexis Rojas Hidalgo",
      "userId": "18158766317608392773"
     },
     "user_tz": 240
    },
    "id": "rYgm5icu67tB",
    "vscode": {
     "languageId": "r"
    }
   },
   "outputs": [],
   "source": [
    "# Añadir picos de fondo\n",
    "project_Peaks <- addBgdPeaks(project_Peaks)\n",
    "\n",
    "# Calcular la matriz de desviaciones\n",
    "project_Peaks <- addDeviationsMatrix(ArchRProj = project_Peaks, peakAnnotation = \"Motif\",force = TRUE)\n",
    "\n",
    "# Graficar la variabilidad en la accesibilidad de motivos\n",
    "getVarDeviations(project_Peaks, name = \"MotifMatrix\", plot = TRUE)\n",
    "\n",
    "# Guardar el proyecto\n",
    "saveArchRProject(ArchRProj = project_Normalized,\n",
    "                 outputDirectory = file.path(getwd(),\"Analysis_scATACseq\"))"
   ]
  },
  {
   "cell_type": "markdown",
   "metadata": {
    "id": "1rUmcVTm67tB"
   },
   "source": [
    "\n",
    "We can display a distribution of markers\n"
   ]
  },
  {
   "cell_type": "code",
   "execution_count": null,
   "metadata": {
    "executionInfo": {
     "elapsed": 4552608,
     "status": "aborted",
     "timestamp": 1690405518812,
     "user": {
      "displayName": "Adolfo Alexis Rojas Hidalgo",
      "userId": "18158766317608392773"
     },
     "user_tz": 240
    },
    "id": "m-xDCq5B67tB",
    "vscode": {
     "languageId": "r"
    }
   },
   "outputs": [],
   "source": [
    "# Define una lista de motivos a analizar\n",
    "motifs <- c(\"FOS\", \"JUNB\")\n",
    "\n",
    "# Recupera las características de motivos desde la matriz de motivos que coincidan con los motivos seleccionados\n",
    "markerMotifs <- getFeatures(\n",
    "  project_Peaks,\n",
    "  select = paste(motifs, \"_\", collapse = \"|\", sep = \"\"),\n",
    "  useMatrix = \"MotifMatrix\"\n",
    ")\n",
    "\n",
    "# Filtra las características de motivos para incluir solo aquellos con el prefijo \"z:\"\n",
    "markerMotifs <- grep(\"z:\", markerMotifs, value = TRUE)\n",
    "\n",
    "# Agrega pesos de imputación al proyecto ArchR para suavizar la visualización de datos\n",
    "project_Peaks <- addImputeWeights(project_Peaks)\n",
    "\n",
    "# Genera gráficos de enriquecimiento de motivos agrupados\n",
    "cowp <- plotGroups(\n",
    "  ArchRProj = project_Peaks,\n",
    "  groupBy = paste(\"Clusters\", slct.res, sep = \".\"),\n",
    "  colorBy = \"MotifMatrix\",\n",
    "  name = markerMotifs,\n",
    "  imputeWeights = getImputeWeights(project_Peaks)\n",
    ")\n",
    "\n",
    "# Organiza los gráficos en una cuadrícula con dos columnas\n",
    "do.call(cowplot::plot_grid, c(list(ncol = 2), cowp))"
   ]
  },
  {
   "cell_type": "markdown",
   "metadata": {
    "id": "omk8UBxn67tC"
   },
   "source": [
    "\n",
    "Or visualize the motif deviation in UMAP (and see if motif deviation correlates with TF gene score)\n"
   ]
  },
  {
   "cell_type": "code",
   "execution_count": null,
   "metadata": {
    "executionInfo": {
     "elapsed": 4552607,
     "status": "aborted",
     "timestamp": 1690405518812,
     "user": {
      "displayName": "Adolfo Alexis Rojas Hidalgo",
      "userId": "18158766317608392773"
     },
     "user_tz": 240
    },
    "id": "aCpegir267tC",
    "vscode": {
     "languageId": "r"
    }
   },
   "outputs": [],
   "source": [
    "# Traza el enriquecimiento de motivos en la incrustación de UMAP\n",
    "motif.umap <- plotEmbedding(\n",
    "  ArchRProj = project_Peaks,\n",
    "  colorBy = \"MotifMatrix\",\n",
    "  name = sort(markerMotifs),\n",
    "  embedding = \"UMAP\",\n",
    "  imputeWeights = getImputeWeights(project_Peaks)\n",
    ")\n",
    "\n",
    "# Muestra los gráficos de UMAP de motivos en una cuadrícula\n",
    "do.call(cowplot::plot_grid, c(list(ncol = 2), motif.umap))\n",
    "\n",
    "# Recupera las características de la actividad génica relacionadas con los motivos seleccionados\n",
    "markerRNA <- getFeatures(\n",
    "  project_Peaks,\n",
    "  select = paste(motifs, \"$\", collapse = \"|\", sep = \"\"),\n",
    "  useMatrix = \"GeneScoreMatrix\"\n",
    ")\n",
    "\n",
    "# Traza el enriquecimiento de la matriz de puntuación génica en la incrustación de UMAP\n",
    "gene.umap <- plotEmbedding(\n",
    "  ArchRProj = project_Peaks,\n",
    "  colorBy = \"GeneScoreMatrix\",\n",
    "  name = sort(markerRNA),\n",
    "  embedding = \"UMAP\",\n",
    "  imputeWeights = getImputeWeights(project_Peaks)\n",
    ")\n",
    "\n",
    "# Muestra los gráficos de UMAP de la puntuación génica en una cuadrícula\n",
    "do.call(cowplot::plot_grid, c(list(ncol = 2), gene.umap))"
   ]
  },
  {
   "cell_type": "markdown",
   "metadata": {
    "id": "-xDUH7WK67tD"
   },
   "source": [
    "### 9.2. Pairwise test between clusters\n",
    "We can identify the motif enrichment between two clusters (based on differential accessibility of peaks between these two clusters).\n"
   ]
  },
  {
   "cell_type": "code",
   "execution_count": null,
   "metadata": {
    "executionInfo": {
     "elapsed": 4552605,
     "status": "aborted",
     "timestamp": 1690405518812,
     "user": {
      "displayName": "Adolfo Alexis Rojas Hidalgo",
      "userId": "18158766317608392773"
     },
     "user_tz": 240
    },
    "id": "-ZOPmm-J67tD",
    "vscode": {
     "languageId": "r"
    }
   },
   "outputs": [],
   "source": [
    "# Selecciona dos agrupamientos (clusters) para el análisis diferencial\n",
    "slct.Cl1=\"C9\"\n",
    "slct.Cl2=\"C11\"\n",
    "\n",
    "# Realiza un análisis diferencial entre C9 y C11\n",
    "markerTest <- getMarkerFeatures(ArchRProj = project_Peaks,\n",
    "                                useMatrix = \"PeakMatrix\",\n",
    "                                groupBy = paste(\"Clusters\",slct.res,sep=\".\"),\n",
    "                                testMethod = \"wilcoxon\",\n",
    "                                bias = c(\"TSSEnrichment\", \"log10(nFrags)\"),\n",
    "                                useGroups = slct.Cl1, bgdGroups = slct.Cl2)\n",
    "\n",
    "# Genera gráficos MA y Volcano\n",
    "map.Cl1vCl2 <- markerPlot(seMarker = markerTest, name = slct.Cl1,\n",
    "                        cutOff = \"FDR <= 0.1 & abs(Log2FC) >= 1\",\n",
    "                        plotAs = \"MA\")\n",
    "vp.Cl1vCl2 <- markerPlot(seMarker = markerTest, name = slct.Cl1,\n",
    "                       cutOff = \"FDR <= 0.1 & abs(Log2FC) >= 1\",\n",
    "                       plotAs = \"Volcano\")\n",
    "\n",
    "# Muestra los gráficos MA y Volcano\n",
    "map.Cl1vCl2 | vp.Cl1vCl2\n"
   ]
  },
  {
   "cell_type": "markdown",
   "metadata": {
    "id": "W6MwTSEA67tD"
   },
   "source": [
    "\n",
    "Motif Up-Enrich and motif Down-enrich (based on the pairwise test between clusters)\n"
   ]
  },
  {
   "cell_type": "code",
   "execution_count": null,
   "metadata": {
    "executionInfo": {
     "elapsed": 4552604,
     "status": "aborted",
     "timestamp": 1690405518812,
     "user": {
      "displayName": "Adolfo Alexis Rojas Hidalgo",
      "userId": "18158766317608392773"
     },
     "user_tz": 240
    },
    "id": "JmEuQWPx67tE",
    "vscode": {
     "languageId": "r"
    }
   },
   "outputs": [],
   "source": [
    "# Identifica los motivos significativamente enriquecidos en picos con mayor accesibilidad\n",
    "motifsUp <- peakAnnoEnrichment(ArchRProj = project_Peaks,\n",
    "                               seMarker = markerTest,\n",
    "                               peakAnnotation = \"Motif\",\n",
    "                               cutOff = \"FDR <= 0.1 & Log2FC >= 0.5\") # Selecciona motivos con FDR significativo y Log2FC >= 0.5\n",
    "\n",
    "# Crea un marco de datos con los nombres de los motivos y los valores ajustados de p\n",
    "df <- data.frame(TF = rownames(motifsUp), mlog10Padj = assay(motifsUp)[,1])\n",
    "df <- df[order(df$mlog10Padj, decreasing = TRUE),] # Ordena por significancia\n",
    "df$rank <- seq_len(nrow(df)) # Asigna un rango basado en la significancia\n",
    "\n",
    "# Traza los motivos enriquecidos de TF con etiquetas\n",
    "ggUp <- ggplot(df, aes(rank, mlog10Padj, color = mlog10Padj)) +\n",
    "    geom_point(size = 1) + ggrepel::geom_label_repel(\n",
    "        data = df[rev(seq_len(30)), ], aes(x = rank, y = mlog10Padj, label = TF),\n",
    "        size = 1.5, nudge_x = 2, color = \"black\") + theme_ArchR() +\n",
    "        ylab(\"-log10(P-adj) Motif Enrichment\") + xlab(\"Rank Sorted TFs Enriched\") +\n",
    "        scale_color_gradientn(colors = paletteContinuous(set = \"comet\"))\n",
    "\n",
    "# Identifica los motivos significativamente enriquecidos en picos con menor accesibilidad\n",
    "motifsDo <- peakAnnoEnrichment(ArchRProj = project_Peaks,\n",
    "                               seMarker = markerTest,\n",
    "                               peakAnnotation = \"Motif\",\n",
    "                               cutOff = \"FDR <= 0.1 & Log2FC <= -0.5\") # Selecciona motivos con Log2FC <= -0.5\n",
    "\n",
    "df <- data.frame(TF = rownames(motifsDo), mlog10Padj = assay(motifsDo)[,1])\n",
    "df <- df[order(df$mlog10Padj, decreasing = TRUE),] # Ordena por significancia\n",
    "df$rank <- seq_len(nrow(df)) # Asigna un rango\n",
    "\n",
    "# Traza los motivos TF que se pierden en la accesibilidad\n",
    "ggDo <- ggplot(df, aes(rank, mlog10Padj, color = mlog10Padj)) +\n",
    "    geom_point(size = 1) + ggrepel::geom_label_repel(\n",
    "        data = df[rev(seq_len(30)), ], aes(x = rank, y = mlog10Padj, label = TF),\n",
    "        size = 1.5, nudge_x = 2, color = \"black\") + theme_ArchR() +\n",
    "        ylab(\"-log10(FDR) Motif Enrichment\") + xlab(\"Rank Sorted TFs Enriched\") +\n",
    "        scale_color_gradientn(colors = paletteContinuous(set = \"comet\"))\n",
    "\n",
    "# Combina ambos gráficos\n",
    "ggUp | ggDo"
   ]
  },
  {
   "cell_type": "markdown",
   "metadata": {
    "id": "GZvn5y1G67tE"
   },
   "source": [
    "## 10. Identification of Positive TF-Regulators\n",
    "Although ATAC-seq allows unbiased identification of TFs, families of TFs share similar motifs when viewed in aggregate.\n",
    "This makes it difficult to identify specific TFs that may be responsible for the observed changes in chromatin accessibility to their predicted binding sites. To circumvent this problem, ArchR identifies TFs whose gene expression (Gene score) is positively correlated with changes in accessibility of their corresponding motif (Motif deviation obtained using ChromVAR).\n",
    "\n",
    "\n"
   ]
  },
  {
   "cell_type": "markdown",
   "metadata": {
    "id": "deWbaULMh9aE"
   },
   "source": [
    "### Step 1. Identify Deviant TF Motifs"
   ]
  },
  {
   "cell_type": "code",
   "execution_count": null,
   "metadata": {
    "executionInfo": {
     "elapsed": 4551217,
     "status": "aborted",
     "timestamp": 1690405518813,
     "user": {
      "displayName": "Adolfo Alexis Rojas Hidalgo",
      "userId": "18158766317608392773"
     },
     "user_tz": 240
    },
    "id": "DhRyv1v567tF",
    "vscode": {
     "languageId": "r"
    }
   },
   "outputs": [],
   "source": [
    "# Extrae las puntuaciones de desviación de motivos agrupadas por clusters\n",
    "seGroupMotif <- getGroupSE(ArchRProj = project_Peaks, useMatrix = \"MotifMatrix\", groupBy = paste(\"Clusters\", slct.res, sep=\".\"))\n",
    "\n",
    "# Extrae solo las desviaciones de Z-score\n",
    "seZ <- seGroupMotif[rowData(seGroupMotif)$seqnames == \"z\",]\n",
    "\n",
    "# Calcula el delta máximo en el Z-score entre todos los clusters\n",
    "rowData(seZ)$maxDelta <- lapply(seq_len(ncol(seZ)), function(x){\n",
    "  rowMaxs(assay(seZ) - assay(seZ)[,x])\n",
    "}) %>% Reduce(\"cbind\", .) %>% rowMaxs"
   ]
  },
  {
   "cell_type": "markdown",
   "metadata": {
    "id": "E7CVxkSM67tF"
   },
   "source": [
    "\n",
    "### Step 2. Identify Correlated TF Motifs and TF Gene Score/Expression\n"
   ]
  },
  {
   "cell_type": "code",
   "execution_count": null,
   "metadata": {
    "executionInfo": {
     "elapsed": 4551214,
     "status": "aborted",
     "timestamp": 1690405518813,
     "user": {
      "displayName": "Adolfo Alexis Rojas Hidalgo",
      "userId": "18158766317608392773"
     },
     "user_tz": 240
    },
    "id": "1fUFF8ks67tF",
    "vscode": {
     "languageId": "r"
    }
   },
   "outputs": [],
   "source": [
    "# Calcula las correlaciones entre las puntuaciones génicas y las desviaciones de motivos\n",
    "corGSM_MM <- correlateMatrices(\n",
    "    ArchRProj = project_Peaks,\n",
    "    useMatrix1 = \"GeneScoreMatrix\",\n",
    "    useMatrix2 = \"MotifMatrix\",\n",
    "    reducedDims = \"Harmony\" # También se puede usar IterativeLSI\n",
    ")\n",
    "\n",
    "# Muestra las principales correlaciones\n",
    "head(corGSM_MM, 15)"
   ]
  },
  {
   "cell_type": "markdown",
   "metadata": {
    "id": "CvgKCLWS67tG"
   },
   "source": [
    "### Step 3. Add Maximum Delta Deviation to the Correlation Data Frame\n"
   ]
  },
  {
   "cell_type": "code",
   "execution_count": null,
   "metadata": {
    "executionInfo": {
     "elapsed": 4551213,
     "status": "aborted",
     "timestamp": 1690405518813,
     "user": {
      "displayName": "Adolfo Alexis Rojas Hidalgo",
      "userId": "18158766317608392773"
     },
     "user_tz": 240
    },
    "id": "qsCC26_S67tG",
    "vscode": {
     "languageId": "r"
    }
   },
   "outputs": [],
   "source": [
    "# Anota los motivos con el delta máximo observado entre agrupamientos (clusters)\n",
    "corGSM_MM$maxDelta <- rowData(seZ)[match(corGSM_MM$MotifMatrix_name, rowData(seZ)$name), \"maxDelta\"]"
   ]
  },
  {
   "cell_type": "markdown",
   "metadata": {
    "id": "bh--roNM67tH"
   },
   "source": [
    "\n",
    "### Step 4. Identify Positive TF Regulators\n"
   ]
  },
  {
   "cell_type": "code",
   "execution_count": null,
   "metadata": {
    "executionInfo": {
     "elapsed": 4551211,
     "status": "aborted",
     "timestamp": 1690405518813,
     "user": {
      "displayName": "Adolfo Alexis Rojas Hidalgo",
      "userId": "18158766317608392773"
     },
     "user_tz": 240
    },
    "id": "G8G7bIo967tH",
    "vscode": {
     "languageId": "r"
    }
   },
   "outputs": [],
   "source": [
    "# Ordena por correlación absoluta y elimina motivos duplicados\n",
    "corGSM_MM <- corGSM_MM[order(abs(corGSM_MM$cor), decreasing = TRUE), ]\n",
    "corGSM_MM <- corGSM_MM[which(!duplicated(gsub(\"\\\\-.*\", \"\", corGSM_MM[,\"MotifMatrix_name\"]))), ]\n",
    "\n",
    "# Clasifica los TFs como positivos (PLUS), negativos (NEG) o neutros (NO)\n",
    "corGSM_MM$TFRegulator <- \"NO\"\n",
    "corGSM_MM$TFRegulator[which(corGSM_MM$cor > 0.1 & corGSM_MM$padj < 0.01 & corGSM_MM$maxDelta > quantile(corGSM_MM$maxDelta, 0.75))] <- \"PLUS\"\n",
    "corGSM_MM$TFRegulator[which(corGSM_MM$cor < (-0.1) & corGSM_MM$padj < 0.01 & corGSM_MM$maxDelta > quantile(corGSM_MM$maxDelta, 0.75))] <- \"NEG\"\n",
    "\n",
    "# Gráfico de dispersión de la correlación vs el delta máximo\n",
    "ggplot(data.frame(corGSM_MM), aes(cor, maxDelta, color = TFRegulator)) +\n",
    "  geom_point() +\n",
    "  theme_ArchR() +\n",
    "  geom_vline(xintercept = 0, lty = \"dashed\") +\n",
    "  scale_color_manual(values = c(\"NO\"=\"darkgrey\", \"PLUS\"=\"firebrick3\", \"NEG\"=\"royalblue1\")) +\n",
    "  xlab(\"Correlation To Gene Score\") +\n",
    "  ylab(\"Max TF Motif Delta\") +\n",
    "  scale_y_continuous(\n",
    "    expand = c(0,0),\n",
    "    limits = c(0, max(corGSM_MM$maxDelta)*1.05)\n",
    "  )\n",
    "\n",
    "# Muestra los principales reguladores\n",
    "head(as.matrix(sort(corGSM_MM[corGSM_MM$TFRegulator==\"PLUS\", c(\"GeneScoreMatrix_name\", \"MotifMatrix_name\", \"cor\", \"padj\", \"maxDelta\")])), 15)\n",
    "head(as.matrix(sort(corGSM_MM[corGSM_MM$TFRegulator==\"NEG\", c(\"GeneScoreMatrix_name\", \"MotifMatrix_name\", \"cor\", \"padj\", \"maxDelta\")])), 5)"
   ]
  },
  {
   "cell_type": "markdown",
   "metadata": {
    "id": "avs_VbGC67tH"
   },
   "source": [
    "## 11. Co-accessibility\n",
    "To study how the genes are regulated (promoter and enhancer links) ArchR proposes Co-accessibility analysis.\n",
    "Co-accessibility is a correlation in accessibility between two peaks across many single cells. Said another way, when Peak A is accessible in a single cell, Peak B is often also accessible.\n",
    "For example, co-accessibility allows to visualize the enhancer(s) linked to the gene promoter.\n",
    "<center>\n",
    "\n",
    "![<i><font size=1 color=\"grey\">from ArchR manual</font></i>](./Figures/ArchR_Coaccessibility.png){width=50% height=50%}\n",
    "\n",
    "</center>\n",
    "Remarks:Co-accessibility analysis identify cell type-specific peaks. Although these peaks are often accessible together within a single cell type (and often all not accessible in all other cell types) does not necessarily explain a regulatory relationship between these peaks.\n"
   ]
  },
  {
   "cell_type": "code",
   "execution_count": null,
   "metadata": {
    "executionInfo": {
     "elapsed": 4549607,
     "status": "aborted",
     "timestamp": 1690405518813,
     "user": {
      "displayName": "Adolfo Alexis Rojas Hidalgo",
      "userId": "18158766317608392773"
     },
     "user_tz": 240
    },
    "id": "X_o6cRPq67tI",
    "vscode": {
     "languageId": "r"
    }
   },
   "outputs": [],
   "source": [
    "# Añade análisis de co-accesibilidad al proyecto ArchR utilizando las dimensiones de Harmony\n",
    "project_Peaks <- addCoAccessibility(ArchRProj = project_Peaks, reducedDims = \"Harmony\")\n",
    "\n",
    "# Recupera las interacciones de co-accesibilidad con corte de correlación y resolución\n",
    "cA <- getCoAccessibility(\n",
    "  ArchRProj = project_Peaks,\n",
    "  corCutOff = 0.5,\n",
    "  resolution = 10000,\n",
    "  returnLoops = TRUE\n",
    ")\n",
    "\n",
    "# Muestra las primeras 10 interacciones de co-accesibilidad\n",
    "head(cA$CoAccessibility, 10)\n",
    "\n",
    "# Genera una visualización de pista en el navegador del genoma para genes marcador seleccionados\n",
    "p <- plotBrowserTrack(\n",
    "  ArchRProj = project_Peaks,  # El proyecto ArchR que contiene los picos\n",
    "  groupBy = paste(\"Clusters\", slct.res, sep = \".\"),  # Agrupar por clusters seleccionados\n",
    "  geneSymbol = markerGenes,  # Los genes marcador a visualizar\n",
    "  upstream = 50000,  # Extiende 50 kb hacia arriba\n",
    "  downstream = 50000,  # Extiende 50 kb hacia abajo\n",
    "  loops = getCoAccessibility(project_Peaks)  # Obtiene las interacciones de co-accesibilidad\n",
    ")\n",
    "\n",
    "# Renderiza el gráfico del navegador del genoma\n",
    "grid::grid.newpage()  # Crea una nueva página para el gráfico\n",
    "grid::grid.draw(p$CD8A)  # Dibuja el gráfico para el gen CD8A"
   ]
  },
  {
   "cell_type": "markdown",
   "metadata": {
    "id": "ao6j09UL67tI"
   },
   "source": [
    "## 12. Footprinting\n",
    "\n",
    "Transcription factor (TF) footprinting allows for the prediction of the precise binding location of a TF at a particular locus. This is because the DNA bases that are directly bound by the TF are actually protected from transposition while the DNA bases immediately adjacent to TF binding are accessible.\n",
    "\n"
   ]
  },
  {
   "cell_type": "code",
   "execution_count": null,
   "metadata": {
    "executionInfo": {
     "elapsed": 4546107,
     "status": "aborted",
     "timestamp": 1690405518813,
     "user": {
      "displayName": "Adolfo Alexis Rojas Hidalgo",
      "userId": "18158766317608392773"
     },
     "user_tz": 240
    },
    "id": "oyekL4lk67tJ",
    "vscode": {
     "languageId": "r"
    }
   },
   "outputs": [],
   "source": [
    "# Obtiene las posiciones de los motivos\n",
    "motifPositions <- getPositions(project_Peaks)\n",
    "\n",
    "# Elimina el prefijo 'z:' de los nombres de los motivos\n",
    "markerMotifs <- gsub(\"z:\", \"\", markerMotifs)\n",
    "\n",
    "# Calcula las huellas de los motivos\n",
    "seFoot <- getFootprints(\n",
    "  ArchRProj = project_Peaks,  # Proyecto ArchR\n",
    "  positions = motifPositions[markerMotifs],  # Las posiciones de los motivos seleccionados\n",
    "  groupBy = paste(\"Clusters\", slct.res, sep=\".\")  # Agrupar por clusters seleccionados\n",
    ")\n",
    "\n",
    "# Grafica las huellas de los motivos con corrección de sesgo\n",
    "plotFootprints(seFoot = seFoot,\n",
    "               ArchRProj = project_Peaks,\n",
    "               normMethod = \"Subtract\",  # Método de normalización: Restar, Opciones: Dividir, Ninguno\n",
    "               plotName = paste(\"Footprints-Subtract-Bias\", slct.res, \"cisbp\", sep=\".\"),\n",
    "               addDOC = FALSE,  # No agregar la densidad de la curva de documento (DOC)\n",
    "               smoothWindow = 5)  # Ventana de suavizado"
   ]
  },
  {
   "cell_type": "markdown",
   "metadata": {
    "id": "whg7dcp667tJ"
   },
   "source": [
    "## 13. Trajectory Analysis\n",
    "\n",
    "ArchR proposes to create a cellular trajectory that approximates the differentiation from a cell cluster to an other one.\n",
    "After the definition of the trajectory backbone, which consist of an ordered vector of cell group labels, ArchR identify a pseudo-time value for each cell in the trajectory.\n",
    "In the results, ArchR provides UMAPs to visualize the pseudo-temporal trajectory and heatmaps to track spike/pattern/gene signals as a function of pseudo-temporality.\n",
    "\n"
   ]
  },
  {
   "cell_type": "markdown",
   "metadata": {
    "id": "fhJoEKUAiFOy"
   },
   "source": [
    "### 13.1. Construction of trajectory\n",
    "\n",
    "Firstly, ArchR produces a pseudo-time value for each cell in the trajectory, which can be visualize on UMAP and used to display an arrow approximating the trajectory path from the spline-fit."
   ]
  },
  {
   "cell_type": "code",
   "execution_count": null,
   "metadata": {
    "executionInfo": {
     "elapsed": 4544628,
     "status": "aborted",
     "timestamp": 1690405518813,
     "user": {
      "displayName": "Adolfo Alexis Rojas Hidalgo",
      "userId": "18158766317608392773"
     },
     "user_tz": 240
    },
    "id": "iXAooS0z67tK",
    "vscode": {
     "languageId": "r"
    }
   },
   "outputs": [],
   "source": [
    "# Definir una trayectoria (por ejemplo, C9 a C11)\n",
    "trajectory <- c(\"C9\", \"C11\")\n",
    "traj.name <- \"TF.C9.C11\"\n",
    "\n",
    "# Añadir la trayectoria al proyecto\n",
    "project_Peaks <- addTrajectory(\n",
    "    ArchRProj = project_Peaks,\n",
    "    name = traj.name,\n",
    "    groupBy = paste(\"Clusters\", slct.res, sep=\".\"),\n",
    "    trajectory = trajectory,\n",
    "    embedding = \"UMAP\",\n",
    "    force = TRUE\n",
    ")\n",
    "\n",
    "# Graficar la trayectoria\n",
    "plotTraj <- plotTrajectory(project_Peaks, trajectory = traj.name, colorBy = \"cellColData\", name = traj.name, embedding = \"UMAP\")\n",
    "plotTraj[[1]] # Muestra la primera visualización de la trayectoria"
   ]
  },
  {
   "cell_type": "markdown",
   "metadata": {
    "id": "oXzmE8vd67tK"
   },
   "source": [
    "### 13.2. Observation of specific genes\n",
    "\n",
    "It's possible to visualize this trajectory but color the cells by a specific gene score value.\n"
   ]
  },
  {
   "cell_type": "code",
   "execution_count": null,
   "metadata": {
    "executionInfo": {
     "elapsed": 4544626,
     "status": "aborted",
     "timestamp": 1690405518814,
     "user": {
      "displayName": "Adolfo Alexis Rojas Hidalgo",
      "userId": "18158766317608392773"
     },
     "user_tz": 240
    },
    "id": "4fE5A4mI67tL",
    "vscode": {
     "languageId": "r"
    }
   },
   "outputs": [],
   "source": [
    "# Graficar la trayectoria del gen CD4 usando la GeneScoreMatrix, visualizada en el embebido UMAP\n",
    "p_gene <- plotTrajectory(project_Peaks, trajectory = traj.name, colorBy = \"GeneScoreMatrix\", \n",
    "                         name = \"CD4\", continuousSet = \"horizonExtra\", embedding = \"UMAP\")\n",
    "\n",
    "# Mostrar los dos primeros gráficos de la trayectoria lado a lado\n",
    "p_gene[[1]] | p_gene[[2]]"
   ]
  },
  {
   "cell_type": "markdown",
   "metadata": {
    "id": "6S4gNRO-67tL"
   },
   "source": [
    "### 13.3 Pseudo-time heatmaps\n",
    "\n",
    "Finally, ArchR allow to perform heatmap to visualize changes in many features (peaks, gene scores or motifs) across pseudo-time.\n"
   ]
  },
  {
   "cell_type": "code",
   "execution_count": null,
   "metadata": {
    "executionInfo": {
     "elapsed": 4544624,
     "status": "aborted",
     "timestamp": 1690405518814,
     "user": {
      "displayName": "Adolfo Alexis Rojas Hidalgo",
      "userId": "18158766317608392773"
     },
     "user_tz": 240
    },
    "id": "gkLjz-GO67tM",
    "vscode": {
     "languageId": "r"
    }
   },
   "outputs": [],
   "source": [
    "# Obtener la trayectoria del puntaje génico (normalizada con log2)\n",
    "trajGSM <- getTrajectory(ArchRProj = project_Peaks, name = traj.name, useMatrix = \"GeneScoreMatrix\", log2Norm = TRUE)\n",
    "\n",
    "# Graficar el mapa de calor para la trayectoria del puntaje génico con la paleta de colores \"horizonExtra\"\n",
    "p_trajGSM <- plotTrajectoryHeatmap(trajGSM, pal = paletteContinuous(set = \"horizonExtra\"))\n",
    "\n",
    "# Generar la matriz del mapa de calor para la trayectoria del puntaje génico\n",
    "p_trajGSM.matrix <- plotTrajectoryHeatmap(trajGSM, pal = paletteContinuous(set = \"horizonExtra\"), returnMatrix = TRUE)\n",
    "\n",
    "# Obtener la trayectoria de accesibilidad de los picos (normalizada con log2)\n",
    "trajPM  <- getTrajectory(ArchRProj = project_Peaks, name = traj.name, useMatrix = \"PeakMatrix\", log2Norm = TRUE)\n",
    "\n",
    "# Graficar el mapa de calor para la trayectoria de accesibilidad de los picos con la paleta de colores \"solarExtra\"\n",
    "p_trajPM <- plotTrajectoryHeatmap(trajPM, pal = paletteContinuous(set = \"solarExtra\"))\n",
    "\n",
    "# Generar la matriz del mapa de calor para la trayectoria de accesibilidad de los picos\n",
    "p_trajPM.matrix <- plotTrajectoryHeatmap(trajPM, pal = paletteContinuous(set = \"solarExtra\"), returnMatrix = TRUE)\n",
    "\n",
    "# Obtener la trayectoria de actividad del motivo (sin normalización log2)\n",
    "trajMM  <- getTrajectory(ArchRProj = project_Peaks, name = traj.name, useMatrix = \"MotifMatrix\", log2Norm = FALSE)\n",
    "\n",
    "# Graficar el mapa de calor para la trayectoria de actividad del motivo con la paleta de colores \"solarExtra\"\n",
    "p_trajMM <- plotTrajectoryHeatmap(trajMM, pal = paletteContinuous(set = \"solarExtra\"))\n",
    "\n",
    "# Generar la matriz del mapa de calor para la trayectoria de actividad del motivo\n",
    "p_trajMM.matrix <- plotTrajectoryHeatmap(trajMM, pal = paletteContinuous(set = \"solarExtra\"), returnMatrix = TRUE)\n",
    "\n",
    "# Mostrar los mapas de calor\n",
    "p_trajGSM\n",
    "p_trajPM\n",
    "p_trajMM"
   ]
  },
  {
   "cell_type": "markdown",
   "metadata": {
    "id": "4yoiESAD67tP"
   },
   "source": [
    "### 13.3. Integrative pseudo-time analysis\n",
    "\n",
    "As shown before, ArchR allows also to perform integrative analysis to identify positive TF using gene scores and motif accessibility across pseudo-time, follow their variability across pseudo-time and understand their role in this trajectory. To do it, ArchR proposes to use the correlateTrajectories() function which takes two SummarizedExperiment objects obtained from the getTrajectories() function which we have obtained before.\n",
    "\n",
    "\n",
    "* Step 1. Identify and select the  motifs which gene score and TF motif accessibility is correlated:\n"
   ]
  },
  {
   "cell_type": "code",
   "execution_count": null,
   "metadata": {
    "executionInfo": {
     "elapsed": 4544622,
     "status": "aborted",
     "timestamp": 1690405518814,
     "user": {
      "displayName": "Adolfo Alexis Rojas Hidalgo",
      "userId": "18158766317608392773"
     },
     "user_tz": 240
    },
    "id": "-yhEyl1x67tP",
    "vscode": {
     "languageId": "r"
    }
   },
   "outputs": [],
   "source": [
    "# Calcular la correlación entre la trayectoria del puntaje génico (trajGSM) y la trayectoria del motivo (trajMM)\n",
    "# Usando criterios de baja exigencia: umbral de correlación de 0.2, umbrales de varianza de 0.5 para ambas matrices\n",
    "corGSM_MM <- correlateTrajectories(trajGSM, trajMM, \n",
    "                                   corCutOff = 0.2, varCutOff1 = 0.5, varCutOff2 = 0.5)\n",
    "\n",
    "# Filtrar las trayectorias de puntaje génico y motivo según los resultados de la correlación\n",
    "flt_trajGSM <- trajGSM[corGSM_MM[[1]]$name1, ]\n",
    "flt_trajMM <- trajMM[corGSM_MM[[1]]$name2, ]"
   ]
  },
  {
   "cell_type": "markdown",
   "metadata": {
    "id": "BEvGNRsN67tQ"
   },
   "source": [
    "* Step 2. Create a new trajectory two visualize side by side the TF motif based on gene score and TF motif enrichment:\n",
    "\n"
   ]
  },
  {
   "cell_type": "code",
   "execution_count": null,
   "metadata": {
    "executionInfo": {
     "elapsed": 4544620,
     "status": "aborted",
     "timestamp": 1690405518814,
     "user": {
      "displayName": "Adolfo Alexis Rojas Hidalgo",
      "userId": "18158766317608392773"
     },
     "user_tz": 240
    },
    "id": "Sn9F6ux267tQ",
    "vscode": {
     "languageId": "r"
    }
   },
   "outputs": [],
   "source": [
    "# Crear un objeto de trayectoria combinado usando la trayectoria del puntaje génico filtrada (flt_trajGSM)\n",
    "combinedTraj <- flt_trajGSM\n",
    "\n",
    "# Normalizar y combinar las trayectorias de puntaje génico (flt_trajGSM) y motivo (flt_trajMM)\n",
    "# - Escalar cada fila (gen/motivo) por separado para ambas matrices\n",
    "# - Transponer el resultado y sumarlos para integrar la información de ambas fuentes\n",
    "assay(combinedTraj, withDimnames=FALSE) <- t(apply(assay(flt_trajGSM), 1, scale)) + \n",
    "                                           t(apply(assay(flt_trajMM), 1, scale))\n",
    "\n",
    "# Generar una matriz del mapa de calor a partir de la trayectoria combinada\n",
    "# - returnMat = TRUE devuelve la matriz en lugar de graficar\n",
    "# - varCutOff = 0 asegura que no haya filtrado basado en la varianza\n",
    "combinedMat <- plotTrajectoryHeatmap(combinedTraj, returnMat = TRUE, varCutOff = 0)\n",
    "\n",
    "# Determinar el orden de las filas (genes/motivos) en la matriz combinada\n",
    "rowOrder <- match(rownames(combinedMat), rownames(flt_trajGSM))\n",
    "\n",
    "# Graficar el mapa de calor para la trayectoria del puntaje génico, manteniendo el orden de las filas consistente con la matriz combinada\n",
    "ht_GSM <- plotTrajectoryHeatmap(flt_trajGSM, pal = paletteContinuous(set = \"horizonExtra\"),  \n",
    "                                varCutOff = 0, rowOrder = rowOrder)\n",
    "\n",
    "# Graficar el mapa de calor para la trayectoria del motivo, manteniendo el orden de las filas consistente con la matriz combinada\n",
    "ht_MM <- plotTrajectoryHeatmap(flt_trajMM, pal = paletteContinuous(set = \"solarExtra\"), \n",
    "                               varCutOff = 0, rowOrder = rowOrder)\n",
    "\n",
    "# Mostrar ambos mapas de calor lado a lado para la comparación\n",
    "ht_GSM + ht_MM\n"
   ]
  },
  {
   "cell_type": "markdown",
   "metadata": {
    "id": "1QdXdkkF67tQ"
   },
   "source": [
    "\n",
    "# Session Information\n"
   ]
  },
  {
   "cell_type": "code",
   "execution_count": null,
   "metadata": {
    "executionInfo": {
     "elapsed": 4542942,
     "status": "aborted",
     "timestamp": 1690405518814,
     "user": {
      "displayName": "Adolfo Alexis Rojas Hidalgo",
      "userId": "18158766317608392773"
     },
     "user_tz": 240
    },
    "id": "pG_hWrQ267tR",
    "vscode": {
     "languageId": "r"
    }
   },
   "outputs": [],
   "source": [
    "# Mostrar la información de la sesión para hacer un seguimiento de las versiones de los paquetes\n",
    "sessionInfo()"
   ]
  }
 ],
 "metadata": {
  "anaconda-cloud": "",
  "colab": {
   "collapsed_sections": [
    "YUGMvNhS67si",
    "czlwG2Kj67sj",
    "QXrfWICGif6w",
    "NGja-Ldz67sw",
    "Y3sQj-nr67sy",
    "i4qJbc6D67sz",
    "fdcPe0iF67s1",
    "nh7kBGEl67s4",
    "Mumkz81uhz6x",
    "GZvn5y1G67tE",
    "deWbaULMh9aE",
    "CvgKCLWS67tG",
    "bh--roNM67tH",
    "avs_VbGC67tH",
    "whg7dcp667tJ"
   ],
   "provenance": [
    {
     "file_id": "1oIOmcjhz_Pphp6k8TzekELl1AESEUew9",
     "timestamp": 1684465304874
    }
   ]
  },
  "kernelspec": {
   "display_name": "R",
   "langauge": "R",
   "name": "ir"
  },
  "language_info": {
   "codemirror_mode": "r",
   "file_extension": ".r",
   "mimetype": "text/x-r-source",
   "name": "R",
   "pygments_lexer": "r",
   "version": "3.4.1"
  }
 },
 "nbformat": 4,
 "nbformat_minor": 0
}
