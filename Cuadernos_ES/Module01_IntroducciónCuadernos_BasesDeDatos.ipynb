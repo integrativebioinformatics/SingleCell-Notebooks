{
 "cells": [
  {
   "cell_type": "markdown",
   "metadata": {
    "id": "6C10CKxzq2eE"
   },
   "source": [
    "## **Conoces Jupyter Notebooks?**"
   ]
  },
  {
   "cell_type": "markdown",
   "metadata": {},
   "source": [
    "Jupyter Notebooks es una herramienta interactiva que combina código ejecutable, texto explicativo, visualización, y otros elementos en un sólo documento. Es ampliamente usado en ciencia de datos, aprendizaje de máquinas, y análisis computacionales, soporta múltiples lenguajes de programación, siendo Python el más popular. Su interfaz interactiva simplifica la exploración de datos, experimentos, y documentación en tiempo real."
   ]
  },
  {
   "cell_type": "markdown",
   "metadata": {},
   "source": [
    "Aquí presentamos las celdas de texto y de código, las cuales tienen diferentes propósitos para organizar y presentar el contenido en los Notebooks:\n"
   ]
  },
  {
   "cell_type": "markdown",
   "metadata": {},
   "source": [
    "**Celdas de texto**\n",
    "* Estas son utilizadas para agregar explicaciones, y descripciones, utilizando formato Markdown o HTML. \n",
    "* Uno puede insertar títulos, listas, enlaces, ecuaciones, y otros elementos para documentar el trabajo y que sea fácil de comprender (tanto para uno mismo, como para otras personas que quieran usarlos). "
   ]
  },
  {
   "cell_type": "markdown",
   "metadata": {},
   "source": [
    "Agregar texto a una celda:\n",
    "1. Hacer click en el botón \"+ Markdown\" en la parte superior de la barra de herramientas.\n",
    "2. Ingresar el texto en la celda utilizando Markdown como formato (ejemplo, # para títulos, ** para texto en negrita, y * para itálica).\n",
    "3. Hacer click fuera de la celda o presionar *Shift + Enter* para renderizar el texto en formato Markdown."
   ]
  },
  {
   "cell_type": "markdown",
   "metadata": {
    "id": "eyOBlhm9JQ3c"
   },
   "source": [
    "## Celdas de Jupyter"
   ]
  },
  {
   "cell_type": "markdown",
   "metadata": {},
   "source": [
    "**Celdas de Código** \n",
    "* Estas son usadas para escribir y ejecutar códigos de programación, principalmente en Python.\n",
    "* Permiten probar algoritmos, manipular datos, y crear visualizaciones, con la salida (output) mostrada directamente abajo del código ejecutado."
   ]
  },
  {
   "cell_type": "markdown",
   "metadata": {},
   "source": [
    "Agregar una Celda de Código:\n",
    "1. Hacer clic en el botón \"+ Code\" en la parte superior de la barra de herramientas del notebook para insertar una celda de código bajo la celda en la que se encuentra actualmente (celda activa).\n",
    "2. Ingresar el código en la celda y presionar *Shift + Enter* para ejecutarlo."
   ]
  },
  {
   "cell_type": "code",
   "execution_count": null,
   "metadata": {
    "id": "-LJ5DzEDuNm5"
   },
   "outputs": [],
   "source": [
    "# Aquí prueba de código en Python\n",
    "test = 4\n"
   ]
  },
  {
   "cell_type": "markdown",
   "metadata": {
    "id": "j7kkOVTKufEX"
   },
   "source": [
    "Aquí puedo *escribir* **un lindo** texto"
   ]
  },
  {
   "cell_type": "markdown",
   "metadata": {
    "id": "x4OKFGrcJVxF"
   },
   "source": [
    "## **Notas:**"
   ]
  },
  {
   "cell_type": "markdown",
   "metadata": {
    "id": "_-1qXgk6eagC"
   },
   "source": [
    "**1:** Si desea ver páginas web o videos en este Notebook, se debe agregar la siguiente extensión:\n",
    "\n",
    "[Extensión de Google](https://chrome.google.com/webstore/detail/ignore-x-frame-headers/gleekbfjekiniecknbkamfmkohkpodhe) o [Extensión de Firefox](https://addons.mozilla.org/en-US/firefox/addon/ignore-x-frame-options-header/)"
   ]
  },
  {
   "cell_type": "markdown",
   "metadata": {
    "id": "8FmYz4vz7zgS"
   },
   "source": [
    "**2:** Si desea crear un Notebook de Colab con un kernel de R, se puede hacer en el siguiente enlace:\n",
    "\n",
    "[Colab con R](https://colab.to/r) o [Otra forma](https://colab.research.google.com/notebook#create=true&language=r)"
   ]
  },
  {
   "cell_type": "markdown",
   "metadata": {
    "id": "OxCcoV7QJAv3"
   },
   "source": [
    "# **Google Colaboratory**"
   ]
  },
  {
   "cell_type": "markdown",
   "metadata": {},
   "source": [
    "Google Colab es una plataforma gratis basada en la nube que permite crear, ejecutar, y compartir Jupyter Notebooks directamente en el navegador. Soporta lenguajes como Python y da acceso a poderosos recursos computacionales como GPUs y TPUs, haciéndolo ideal para aplicaciones de ciencia de datos y aprendizaje de máquina.\n",
    "\n",
    "Adicionalmente, se integra con Google Drive, permitiendo fácil almacenamiento y colaboración en tiempo real."
   ]
  },
  {
   "cell_type": "code",
   "execution_count": null,
   "metadata": {
    "id": "T0XvIjGlrB6d"
   },
   "outputs": [],
   "source": [
    "%%html\n",
    "<iframe width=\"1000\" height=\"606\" src=\"https://www.youtube.com/embed/inN8seMm7UI\" frameborder=\"0\" allow=\"accelerometer; autoplay; clipboard-write; encrypted-media; gyroscope; picture-in-picture; web-share; fullscreen\"></iframe>"
   ]
  },
  {
   "cell_type": "markdown",
   "metadata": {
    "id": "nKPThQ0eZiAv"
   },
   "source": [
    "# **Bases  de datos de scRNA**"
   ]
  },
  {
   "cell_type": "markdown",
   "metadata": {
    "id": "oYF79mYWC4rt"
   },
   "source": [
    "## Single Cell Expression Atlas"
   ]
  },
  {
   "cell_type": "markdown",
   "metadata": {},
   "source": [
    "El Atlas de expresión de célula única (Single Cell Expression Atlas) es un recurso público para explorar datos de secuenciación de RNA de célula única (single-cell RNA-seq; scRNA-seq) en diversos tejidos, tipos celulares, y condiciones biológicas. Provee formas de visualización interactivas y mapas de expresión de genes para estudiar la heterogeneidad celular y la actividad génica a nivel de célula única."
   ]
  },
  {
   "cell_type": "code",
   "execution_count": null,
   "metadata": {
    "colab": {
     "base_uri": "https://localhost:8080/",
     "height": 725
    },
    "executionInfo": {
     "elapsed": 10,
     "status": "ok",
     "timestamp": 1688072406213,
     "user": {
      "displayName": "Yesid Cuesta Astroz",
      "userId": "16482885089920601930"
     },
     "user_tz": 300
    },
    "id": "b_caoMuC4uy_",
    "outputId": "b8abe7d9-e0c2-40f8-a4e6-f21e30d4c6bf"
   },
   "outputs": [
    {
     "data": {
      "text/html": [
       "<iframe width=\"1280\" height=\"700\" src=\"https://www.ebi.ac.uk/gxa/sc/home\" ></iframe>\n"
      ],
      "text/plain": [
       "<IPython.core.display.HTML object>"
      ]
     },
     "metadata": {},
     "output_type": "display_data"
    }
   ],
   "source": [
    "%%html\n",
    "<iframe width=\"1150\" height=\"700\" src=\"https://www.ebi.ac.uk/gxa/sc/home\" ></iframe>"
   ]
  },
  {
   "cell_type": "markdown",
   "metadata": {
    "id": "i5asQV4IDeDB"
   },
   "source": [
    "## Human Cell Atlas Data Portal"
   ]
  },
  {
   "cell_type": "markdown",
   "metadata": {},
   "source": [
    "El Portal de Datos del Atlas de células humanas (Human Cell Atlas (HCA) Data Portal) es una iniciativa de escala global que busca mapear todos los tipos de células humanas utilizando tecnologías de célula única y transcriptómica espacial. Provee acceso a un amplio rango de set de datos para estudiar la diversidad celular, organización de tejido, y biología humana a través de diferentes estados de desarrollo y enfermedades."
   ]
  },
  {
   "cell_type": "code",
   "execution_count": null,
   "metadata": {
    "id": "hV4ZfL8cDkEt"
   },
   "outputs": [],
   "source": [
    "%%html\n",
    "<iframe width=\"1280\" height=\"700\" src=\"https://data.humancellatlas.org/\" ></iframe>"
   ]
  },
  {
   "cell_type": "markdown",
   "metadata": {
    "id": "hfSi-ICEDDgG"
   },
   "source": [
    "## CellXgene"
   ]
  },
  {
   "cell_type": "markdown",
   "metadata": {},
   "source": [
    "CellXgene es una herramienta interactiva para visualizar y analizar datos de scRNA-seq. Permite al usuario explorar la expresión de genes, agrupación, y filtrar por metadata de una manera interactiva en una interfaz basada en web, haciéndola ideal para análisis en profundidad y de set de datos complejos."
   ]
  },
  {
   "cell_type": "code",
   "execution_count": null,
   "metadata": {
    "id": "OEuqx0ETO_-m"
   },
   "outputs": [],
   "source": [
    "%%html\n",
    "<iframe width=\"1280\" height=\"700\" src=\"https://cellxgene.cziscience.com/\" ></iframe>"
   ]
  },
  {
   "cell_type": "markdown",
   "metadata": {
    "id": "290nRifrD0-2"
   },
   "source": [
    "## Panglao DB"
   ]
  },
  {
   "cell_type": "markdown",
   "metadata": {},
   "source": [
    "Una base de datos de estudios de scRNA-seq que se enfoca en identificar tipos celulares de humano y ratón. Ofrece una colección de set de datos curados que pueden ser utilizados para explorar la expresión de genes de varios tejidos y organismos."
   ]
  },
  {
   "cell_type": "code",
   "execution_count": null,
   "metadata": {
    "id": "pgaUeEjlD2Y1"
   },
   "outputs": [],
   "source": [
    "%%html\n",
    "<iframe width=\"1280\" height=\"700\" src=\"https://panglaodb.se/\" ></iframe>"
   ]
  },
  {
   "cell_type": "markdown",
   "metadata": {
    "id": "EmaN5dkPF26d"
   },
   "source": [
    "## CellTypist"
   ]
  },
  {
   "cell_type": "markdown",
   "metadata": {},
   "source": [
    "Una herramienta de código abierto para clasificación automática de tipos celulares a partir de datos de scRNA-seq. Provee modelos de aprendizaje de máquina pre-entrenados para predecir tipos celulares basándose en perfiles de expresión génica, ayudando a los investigadores con la interpretación de datos de célula única de gran escala."
   ]
  },
  {
   "cell_type": "code",
   "execution_count": null,
   "metadata": {
    "id": "SrO_U4ZUF7gu"
   },
   "outputs": [],
   "source": [
    "%%html\n",
    "<iframe width=\"1280\" height=\"700\" src=\"https://www.celltypist.org/\" ></iframe>"
   ]
  },
  {
   "cell_type": "markdown",
   "metadata": {
    "id": "UC_t3ZoUGBFC"
   },
   "source": [
    "## GEO (Gene Expression Omnibus)"
   ]
  },
  {
   "cell_type": "markdown",
   "metadata": {},
   "source": [
    "Una base de datos pública para set de datos de expresión de genes, incluyendo datos de microarray y RNA-seq. GEO permite realizar búsquedas y descarga de set de datos de una variedad de condiciones biológicas, ofreciendo acceso a un amplio rango de datos de expresión génica de diferentes especies."
   ]
  },
  {
   "cell_type": "code",
   "execution_count": null,
   "metadata": {
    "id": "uA17uEJaGc-1"
   },
   "outputs": [],
   "source": [
    "%%html\n",
    "<iframe width=\"1280\" height=\"700\" src=\"https://www.ncbi.nlm.nih.gov/geo/\" ></iframe>"
   ]
  },
  {
   "cell_type": "markdown",
   "metadata": {
    "id": "7fJpD_u4ILK8"
   },
   "source": [
    "## SRA (Sequence Read Archive)"
   ]
  },
  {
   "cell_type": "markdown",
   "metadata": {},
   "source": [
    "Una base de datos pública administrada por NCBI, proporcionando acceso a datos de secuenciación crudos de un amplio rango de organismos y tecnologías de secuenciación. A diferencia de GEO, que se compone de datos de expresión génica procesados, SRA aloja datos de secuencias crudas (lecturas; reads), siendo útil para análisis río abajo, como alineamientos y asignación de variantes."
   ]
  },
  {
   "cell_type": "code",
   "execution_count": null,
   "metadata": {
    "id": "jcxZ33XJIrOZ"
   },
   "outputs": [],
   "source": [
    "%%html\n",
    "<iframe width=\"1280\" height=\"700\" src=\"https://www.ncbi.nlm.nih.gov/sra\" ></iframe>"
   ]
  },
  {
   "cell_type": "markdown",
   "metadata": {},
   "source": [
    "Adicionalmente, existe [**SRA Explorer**](https://sra-explorer.info/), una herramienta interactiva de visualización de datos del SRA, facilitando la navegación y acceso a los datos de secuenciación crudos almacenados en el SRA, permitiendo una búsqueda y descarga eficiente de los datos de secuenciación."
   ]
  }
 ],
 "metadata": {
  "colab": {
   "provenance": [
    {
     "file_id": "1DIhEO--CkSZ_BJOknHlJA2PMeCnQC4b2",
     "timestamp": 1684465203142
    }
   ]
  },
  "kernelspec": {
   "display_name": "Python 3",
   "name": "python3"
  },
  "language_info": {
   "name": "python"
  }
 },
 "nbformat": 4,
 "nbformat_minor": 0
}
