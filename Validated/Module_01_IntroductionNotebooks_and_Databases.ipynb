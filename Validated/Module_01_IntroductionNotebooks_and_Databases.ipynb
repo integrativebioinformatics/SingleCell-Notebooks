{
 "cells": [
  {
   "cell_type": "markdown",
   "metadata": {
    "id": "6C10CKxzq2eE"
   },
   "source": [
    "## **Are you familiar with Jupyter Notebooks?**"
   ]
  },
  {
   "cell_type": "markdown",
   "metadata": {},
   "source": [
    "Jupyter Notebooks are an interactive tool that combines executable code, explanatory text, visualizations, and other elements into a single document. Widely used in data science, machine learning, and computational analysis, they support multiple programming languages, with Python being the most popular. Their intuitive interface simplifies data exploration, experiments, and real-time documentation."
   ]
  },
  {
   "cell_type": "markdown",
   "metadata": {
    "id": "eyOBlhm9JQ3c"
   },
   "source": [
    "## Jupyter Cells"
   ]
  },
  {
   "cell_type": "markdown",
   "metadata": {},
   "source": [
    "Here, we have text cells and code cells serve distinct purposes for organizing and presenting content within notebooks:"
   ]
  },
  {
   "cell_type": "markdown",
   "metadata": {},
   "source": [
    "**Text Cells:**\n",
    "These are used for adding explanations, descriptions, and formatting using Markdown or HTML. You can insert headings, lists, links, equations, and other elements to document your work and make it more comprehensible"
   ]
  },
  {
   "cell_type": "markdown",
   "metadata": {},
   "source": [
    "Add a Text Cell:\n",
    "1. Click the + Text button in the top toolbar.\n",
    "2. Enter your text in the cell using Markdown for formatting (e.g., # for headings, ** for bold text, * for italics).\n",
    "3. Click outside the cell or press Shift + Enter to render the formatted text."
   ]
  },
  {
   "cell_type": "markdown",
   "metadata": {},
   "source": [
    "**Code Cells:** These are used to write and execute programming code, primarily in Python. They allow you to test algorithms, manipulate data, and create visualizations, with outputs displayed directly below the executed code."
   ]
  },
  {
   "cell_type": "markdown",
   "metadata": {},
   "source": [
    "Add a Code Cell:\n",
    "1. click the + Code button at the top toolbar of the notebook to insert a code cell below the active one.\n",
    "2. Enter your code in the cell and press *Shift + Enter* to execute it."
   ]
  },
  {
   "cell_type": "code",
   "execution_count": 9,
   "metadata": {
    "id": "-LJ5DzEDuNm5"
   },
   "outputs": [],
   "source": [
    "#test python code here\n",
    "test = 4\n"
   ]
  },
  {
   "cell_type": "markdown",
   "metadata": {
    "id": "j7kkOVTKufEX"
   },
   "source": [
    "Here I can *write* **beautiful** texts"
   ]
  },
  {
   "cell_type": "markdown",
   "metadata": {
    "id": "x4OKFGrcJVxF"
   },
   "source": [
    "## **Notes:**"
   ]
  },
  {
   "cell_type": "markdown",
   "metadata": {
    "id": "_-1qXgk6eagC"
   },
   "source": [
    "**1:** If you want to see the webpages/videos inside this notebook, you need to add this extension:\n",
    "\n",
    "[Google extension](https://chrome.google.com/webstore/detail/ignore-x-frame-headers/gleekbfjekiniecknbkamfmkohkpodhe) or [Firefox Extension](https://addons.mozilla.org/en-US/firefox/addon/ignore-x-frame-options-header/)"
   ]
  },
  {
   "cell_type": "markdown",
   "metadata": {
    "id": "8FmYz4vz7zgS"
   },
   "source": [
    "**2:** If you want to create a Colab notebook with an R kernel, you can do it with this link:\n",
    "\n",
    "[Colab with R](https://colab.to/r) or\n",
    "\n",
    "[Other form](https://colab.research.google.com/notebook#create=true&language=r)"
   ]
  },
  {
   "cell_type": "markdown",
   "metadata": {
    "id": "OxCcoV7QJAv3"
   },
   "source": [
    "# **Google Colaboratory**"
   ]
  },
  {
   "cell_type": "markdown",
   "metadata": {},
   "source": [
    "Google Colab is a free cloud-based platform that allows you to create, run, and share Jupyter notebooks directly in your browser. It supports languages like Python and provides access to powerful computational resources such as GPUs and TPUs, making it ideal for machine learning and data science tasks. Additionally, it integrates with Google Drive, enabling easy storage and real-time collaboration."
   ]
  },
  {
   "cell_type": "code",
   "execution_count": 10,
   "metadata": {
    "id": "T0XvIjGlrB6d"
   },
   "outputs": [
    {
     "data": {
      "text/html": [
       "<iframe width=\"1000\" height=\"606\" src=\"https://www.youtube.com/embed/inN8seMm7UI\" frameborder=\"0\" allow=\"accelerometer; autoplay; clipboard-write; encrypted-media; gyroscope; picture-in-picture; web-share; fullscreen\"></iframe>\n"
      ],
      "text/plain": [
       "<IPython.core.display.HTML object>"
      ]
     },
     "metadata": {},
     "output_type": "display_data"
    }
   ],
   "source": [
    "%%html\n",
    "<iframe width=\"1000\" height=\"606\" src=\"https://www.youtube.com/embed/inN8seMm7UI\" frameborder=\"0\" allow=\"accelerometer; autoplay; clipboard-write; encrypted-media; gyroscope; picture-in-picture; web-share; fullscreen\"></iframe>"
   ]
  },
  {
   "cell_type": "markdown",
   "metadata": {
    "id": "nKPThQ0eZiAv"
   },
   "source": [
    "# **scRNA databases**"
   ]
  },
  {
   "cell_type": "markdown",
   "metadata": {
    "id": "oYF79mYWC4rt"
   },
   "source": [
    "## Single Cell Expression Atlas"
   ]
  },
  {
   "cell_type": "markdown",
   "metadata": {},
   "source": [
    "The Single Cell Expression Atlas is a public resource for exploring single-cell RNA-seq data across various tissues, cell types, and biological conditions. It provides interactive visualizations and gene expression maps to study cellular heterogeneity and gene activity at a single-cell level."
   ]
  },
  {
   "cell_type": "code",
   "execution_count": 11,
   "metadata": {
    "colab": {
     "base_uri": "https://localhost:8080/",
     "height": 725
    },
    "executionInfo": {
     "elapsed": 10,
     "status": "ok",
     "timestamp": 1688072406213,
     "user": {
      "displayName": "Yesid Cuesta Astroz",
      "userId": "16482885089920601930"
     },
     "user_tz": 300
    },
    "id": "b_caoMuC4uy_",
    "outputId": "b8abe7d9-e0c2-40f8-a4e6-f21e30d4c6bf"
   },
   "outputs": [
    {
     "data": {
      "text/html": [
       "<iframe width=\"1150\" height=\"700\" src=\"https://www.ebi.ac.uk/gxa/sc/home\" ></iframe>\n"
      ],
      "text/plain": [
       "<IPython.core.display.HTML object>"
      ]
     },
     "metadata": {},
     "output_type": "display_data"
    }
   ],
   "source": [
    "%%html\n",
    "<iframe width=\"1150\" height=\"700\" src=\"https://www.ebi.ac.uk/gxa/sc/home\" ></iframe>"
   ]
  },
  {
   "cell_type": "markdown",
   "metadata": {
    "id": "i5asQV4IDeDB"
   },
   "source": [
    "## Human Cell Atlas, Data portal"
   ]
  },
  {
   "cell_type": "markdown",
   "metadata": {},
   "source": [
    "The Human Cell Atlas Data Portal is a large-scale global initiative to map all human cell types using single-cell and spatial transcriptomics. It provides access to a wide range of datasets to study cellular diversity, tissue organization, and human biology across different developmental stages and diseases."
   ]
  },
  {
   "cell_type": "code",
   "execution_count": 12,
   "metadata": {
    "id": "hV4ZfL8cDkEt"
   },
   "outputs": [
    {
     "data": {
      "text/html": [
       "<iframe width=\"1280\" height=\"700\" src=\"https://data.humancellatlas.org/\" ></iframe>\n"
      ],
      "text/plain": [
       "<IPython.core.display.HTML object>"
      ]
     },
     "metadata": {},
     "output_type": "display_data"
    }
   ],
   "source": [
    "%%html\n",
    "<iframe width=\"1280\" height=\"700\" src=\"https://data.humancellatlas.org/\" ></iframe>"
   ]
  },
  {
   "cell_type": "markdown",
   "metadata": {
    "id": "hfSi-ICEDDgG"
   },
   "source": [
    "## CellXgene"
   ]
  },
  {
   "cell_type": "markdown",
   "metadata": {},
   "source": [
    "CellXgene is a interactive tool for visualizing and analyzing single-cell RNA-seq data. It allows users to explore gene expression, clustering, and metadata filtering in an interactive, web-based interface, making it ideal for in-depth analysis of complex datasets."
   ]
  },
  {
   "cell_type": "code",
   "execution_count": 13,
   "metadata": {
    "id": "OEuqx0ETO_-m"
   },
   "outputs": [
    {
     "data": {
      "text/html": [
       "<iframe width=\"1280\" height=\"700\" src=\"https://cellxgene.cziscience.com/\" ></iframe>\n"
      ],
      "text/plain": [
       "<IPython.core.display.HTML object>"
      ]
     },
     "metadata": {},
     "output_type": "display_data"
    }
   ],
   "source": [
    "%%html\n",
    "<iframe width=\"1280\" height=\"700\" src=\"https://cellxgene.cziscience.com/\" ></iframe>"
   ]
  },
  {
   "cell_type": "markdown",
   "metadata": {
    "id": "290nRifrD0-2"
   },
   "source": [
    "## Panglao DB"
   ]
  },
  {
   "cell_type": "markdown",
   "metadata": {},
   "source": [
    "A database of single-cell RNA-seq studies focused on identifying human and mouse cell types. It offers a collection of curated datasets that can be used to explore gene expression across various tissues and organisms."
   ]
  },
  {
   "cell_type": "code",
   "execution_count": 14,
   "metadata": {
    "id": "pgaUeEjlD2Y1"
   },
   "outputs": [
    {
     "data": {
      "text/html": [
       "<iframe width=\"1280\" height=\"700\" src=\"https://panglaodb.se/\" ></iframe>\n"
      ],
      "text/plain": [
       "<IPython.core.display.HTML object>"
      ]
     },
     "metadata": {},
     "output_type": "display_data"
    }
   ],
   "source": [
    "%%html\n",
    "<iframe width=\"1280\" height=\"700\" src=\"https://panglaodb.se/\" ></iframe>"
   ]
  },
  {
   "cell_type": "markdown",
   "metadata": {
    "id": "EmaN5dkPF26d"
   },
   "source": [
    "## CellTypist"
   ]
  },
  {
   "cell_type": "markdown",
   "metadata": {},
   "source": [
    "An open-source tool for automating cell type classification from single-cell RNA-seq data. It provides a pre-trained machine learning model to predict cell types based on gene expression profiles, helping researchers interpret large-scale single-cell data."
   ]
  },
  {
   "cell_type": "code",
   "execution_count": 15,
   "metadata": {
    "id": "SrO_U4ZUF7gu"
   },
   "outputs": [
    {
     "data": {
      "text/html": [
       "<iframe width=\"1280\" height=\"700\" src=\"https://www.celltypist.org/\" ></iframe>\n"
      ],
      "text/plain": [
       "<IPython.core.display.HTML object>"
      ]
     },
     "metadata": {},
     "output_type": "display_data"
    }
   ],
   "source": [
    "%%html\n",
    "<iframe width=\"1280\" height=\"700\" src=\"https://www.celltypist.org/\" ></iframe>"
   ]
  },
  {
   "cell_type": "markdown",
   "metadata": {
    "id": "UC_t3ZoUGBFC"
   },
   "source": [
    "## GEO (Gene Expression Omnibus)"
   ]
  },
  {
   "cell_type": "markdown",
   "metadata": {},
   "source": [
    "A public database for gene expression datasets, including microarray and RNA-seq data. GEO allows users to search and download datasets for a variety of biological conditions, offering access to a broad range of gene expression data from various species."
   ]
  },
  {
   "cell_type": "code",
   "execution_count": 16,
   "metadata": {
    "id": "uA17uEJaGc-1"
   },
   "outputs": [
    {
     "data": {
      "text/html": [
       "<iframe width=\"1280\" height=\"700\" src=\"https://www.ncbi.nlm.nih.gov/geo/\" ></iframe>\n"
      ],
      "text/plain": [
       "<IPython.core.display.HTML object>"
      ]
     },
     "metadata": {},
     "output_type": "display_data"
    }
   ],
   "source": [
    "%%html\n",
    "<iframe width=\"1280\" height=\"700\" src=\"https://www.ncbi.nlm.nih.gov/geo/\" ></iframe>"
   ]
  },
  {
   "cell_type": "markdown",
   "metadata": {
    "id": "7fJpD_u4ILK8"
   },
   "source": [
    "## SRA (Sequence Read Archive)"
   ]
  },
  {
   "cell_type": "markdown",
   "metadata": {},
   "source": [
    "A public database managed by NCBI, providing access to raw sequencing data from a wide range of organisms and sequencing technologies. Unlike GEO, which focuses on processed gene expression data, SRA hosts raw sequence data (reads), making it useful for downstream analyses like alignment and variant calling."
   ]
  },
  {
   "cell_type": "code",
   "execution_count": 17,
   "metadata": {
    "id": "jcxZ33XJIrOZ"
   },
   "outputs": [
    {
     "data": {
      "text/html": [
       "<iframe width=\"1280\" height=\"700\" src=\"https://www.ncbi.nlm.nih.gov/sra\" ></iframe>\n"
      ],
      "text/plain": [
       "<IPython.core.display.HTML object>"
      ]
     },
     "metadata": {},
     "output_type": "display_data"
    }
   ],
   "source": [
    "%%html\n",
    "<iframe width=\"1280\" height=\"700\" src=\"https://www.ncbi.nlm.nih.gov/sra\" ></iframe>"
   ]
  },
  {
   "cell_type": "markdown",
   "metadata": {},
   "source": [
    "Additionally, there is the **SRA Explorer**, an interactive visualization tool for SRA data, making it easier to navigate and access raw sequencing data stored in the Sequence Read Archive, allowing efficient searching and downloading of sequencing data."
   ]
  },
  {
   "cell_type": "code",
   "execution_count": 18,
   "metadata": {},
   "outputs": [
    {
     "data": {
      "text/html": [
       "<iframe width=\"1280\" height=\"700\" src=\"https://sra-explorer.info/\" ></iframe> \n"
      ],
      "text/plain": [
       "<IPython.core.display.HTML object>"
      ]
     },
     "metadata": {},
     "output_type": "display_data"
    }
   ],
   "source": [
    "%%html\n",
    "<iframe width=\"1280\" height=\"700\" src=\"https://sra-explorer.info/\" ></iframe> "
   ]
  }
 ],
 "metadata": {
  "colab": {
   "provenance": [
    {
     "file_id": "1DIhEO--CkSZ_BJOknHlJA2PMeCnQC4b2",
     "timestamp": 1684465203142
    }
   ]
  },
  "kernelspec": {
   "display_name": "Python 3",
   "name": "python3"
  },
  "language_info": {
   "codemirror_mode": {
    "name": "ipython",
    "version": 3
   },
   "file_extension": ".py",
   "mimetype": "text/x-python",
   "name": "python",
   "nbconvert_exporter": "python",
   "pygments_lexer": "ipython3",
   "version": "3.11.9"
  }
 },
 "nbformat": 4,
 "nbformat_minor": 0
}
