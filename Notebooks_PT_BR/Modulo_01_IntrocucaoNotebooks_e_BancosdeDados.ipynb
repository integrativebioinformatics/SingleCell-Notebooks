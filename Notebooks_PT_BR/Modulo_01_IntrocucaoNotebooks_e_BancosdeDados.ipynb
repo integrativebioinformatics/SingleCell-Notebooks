{
 "cells": [
  {
   "cell_type": "markdown",
   "metadata": {},
   "source": [
    "# **Você conhece o Jupyter Notebooks?**"
   ]
  },
  {
   "cell_type": "markdown",
   "metadata": {},
   "source": [
    "O Jupyter Notebooks são um conjunto de ferramentas que combina códigos executáveis, textos explanatórios, visualizações e outros elementos em um único documento. Amplamente usado em análises de dados, aprendizado de máquina e em análises computacionais, compatível com múltiplas linguagens de programação, sendo o Python a mais popular. Sua interface intuitiva simplifica a exploração dos dados e experimentos, documentados em tempo real."
   ]
  },
  {
   "cell_type": "markdown",
   "metadata": {},
   "source": [
    "Aqui, nós temos células de texto e células de código que atendem diferentes propostas para organizar e apresentar o conteúdo dentro dos notebooks."
   ]
  },
  {
   "cell_type": "markdown",
   "metadata": {},
   "source": [
    "**Células de texto**\n",
    "* São usadas para adicionar explicações, descrições e formataçã usando Markdown ou HTML.\n",
    "* Você pde inserir cabeçalhos, listas, links, equações e outros elementos para documentar seu trabalho e fazer isso de forma mais compreensível (para que outras pessoas que queiram utilizá-lo também)."
   ]
  },
  {
   "cell_type": "markdown",
   "metadata": {},
   "source": [
    "**Adicionar uma célula de texto:**\n",
    "1. Selecione o `+ Markdown` presente na barra de ferramentas superior.\n",
    "2. Digite seu texto na célula usando Markdown para formatação (por exemplo, `#` para cabeçalhos, `**` para textos em negrito e `*`para itálico).\n",
    "3. Clique fora da célula ou pressione `Shift + Enter` para renderizar o formato de texto."
   ]
  },
  {
   "cell_type": "markdown",
   "metadata": {},
   "source": [
    "# Células no Jupyter"
   ]
  },
  {
   "cell_type": "markdown",
   "metadata": {},
   "source": [
    "**Células de código**\n",
    "* São utilizadas para escrever e executar códigos de programação, principalmente em Python.\n",
    "* Elas permitem testar algoritmos, manipular dados e criar gráficos com os resultados exibidos diretamente abaixo das células executadas."
   ]
  },
  {
   "cell_type": "markdown",
   "metadata": {},
   "source": [
    "**Adicionar uma célula de texto:**\n",
    "1. Selecione o `+ Code` presente na barra de ferramentas para inserir uma célula de código abaixo da célula ativa.\n",
    "2. Digite seu código na célula e pressione `Shift + Enter` para executá-lo."
   ]
  },
  {
   "cell_type": "code",
   "execution_count": 2,
   "metadata": {},
   "outputs": [],
   "source": [
    "# Teste o código em python aqui\n",
    "test = 4"
   ]
  },
  {
   "cell_type": "markdown",
   "metadata": {},
   "source": [
    "Aqui eu posso escrever **lindos** textos."
   ]
  },
  {
   "cell_type": "markdown",
   "metadata": {},
   "source": [
    "### **Notas**"
   ]
  },
  {
   "cell_type": "markdown",
   "metadata": {},
   "source": [
    "**1.** Se você desejar visualizar páginas ou vídeos na web através desse notebook, será necesário adicionar as seguintes extensões: [Extensão Google](https://chrome.google.com/webstore/detail/ignore-x-frame-headers/gleekbfjekiniecknbkamfmkohkpodhe) ou [Extensão Firefox](https://addons.mozilla.org/en-US/firefox/addon/ignore-x-frame-options-header/).\n",
    "\n",
    "**2.** Se voce deseja criar um Colab notebook com o kernel R, você pode fazer isso através do link: [Colab with R](https://colab.to/r) ou [Other form](https://colab.research.google.com/notebook#create=true&language=r)."
   ]
  },
  {
   "cell_type": "markdown",
   "metadata": {},
   "source": [
    "# **Google Colaboratory**"
   ]
  },
  {
   "cell_type": "markdown",
   "metadata": {},
   "source": [
    "O Google Colab é uma plataforma gratuita baseada em nuvem que permite criar, rodar e compartilhar Jupyter notebooks diretamente em seu navegador. O jupyter suporta linguagem como Python e permite acesso a poderosas recursos computacionais como GPUs e TPUs, sendo ideal para relizar tarefas de aprendizado de máquinas e de ciência de dados.\n",
    "\n",
    "Além disso, é integrado com o Google Drive, permitindo fácil armazenamento e colaborações em tempo real."
   ]
  },
  {
   "cell_type": "code",
   "execution_count": 3,
   "metadata": {},
   "outputs": [
    {
     "data": {
      "text/html": [
       "<iframe width=\"1000\" height=\"606\" src=\"https://www.youtube.com/embed/inN8seMm7UI\" frameborder=\"0\" allow=\"accelerometer; autoplay; clipboard-write; encrypted-media; gyroscope; picture-in-picture; web-share; fullscreen\"></iframe>\n"
      ],
      "text/plain": [
       "<IPython.core.display.HTML object>"
      ]
     },
     "metadata": {},
     "output_type": "display_data"
    }
   ],
   "source": [
    "%%html\n",
    "<iframe width=\"1000\" height=\"606\" src=\"https://www.youtube.com/embed/inN8seMm7UI\" frameborder=\"0\" allow=\"accelerometer; autoplay; clipboard-write; encrypted-media; gyroscope; picture-in-picture; web-share; fullscreen\"></iframe>"
   ]
  },
  {
   "cell_type": "markdown",
   "metadata": {},
   "source": [
    "# **Base de dados de scRNA**"
   ]
  },
  {
   "cell_type": "markdown",
   "metadata": {},
   "source": [
    "## Single Cell Expression Atlas"
   ]
  },
  {
   "cell_type": "markdown",
   "metadata": {},
   "source": [
    "A base de dados Single Cell Expression Atlas é um recurso público para explorar experimentos de sequenciamento de RNA de células únicas (scRNA-seq) em vários tecidos, tipos celulares condições biológicas. Ele fornece visualizações interativas e mapas de expressão para estudar a heterogeneidade celular e atividade dos genes a nível unicelular."
   ]
  },
  {
   "cell_type": "code",
   "execution_count": null,
   "metadata": {
    "vscode": {
     "languageId": "html"
    }
   },
   "outputs": [
    {
     "data": {
      "text/html": [
       "<iframe width=\"1150\" height=\"700\" src=\"https://www.ebi.ac.uk/gxa/sc/home\" ></iframe>\n"
      ],
      "text/plain": [
       "<IPython.core.display.HTML object>"
      ]
     },
     "metadata": {},
     "output_type": "display_data"
    }
   ],
   "source": [
    "%%html\n",
    "<iframe width=\"1150\" height=\"700\" src=\"https://www.ebi.ac.uk/gxa/sc/home\" ></iframe>"
   ]
  },
  {
   "cell_type": "markdown",
   "metadata": {},
   "source": [
    "## Human Cell Atlas, Data Portal"
   ]
  },
  {
   "cell_type": "markdown",
   "metadata": {},
   "source": [
    "O Human Cell Atlas Data Portal é uma iniciativa em escala global para mapear todos os tipos celulares humanos usando a tecnologia de células únicas e de transcriptoma espacial. Ela fornece acesso a um amplo espectro de conjunto de dados para estudar a diversidade celular, organização tecidual e biologia humana em diferentes estágios do desenvolvimento e de doenças."
   ]
  },
  {
   "cell_type": "code",
   "execution_count": 13,
   "metadata": {
    "vscode": {
     "languageId": "html"
    }
   },
   "outputs": [
    {
     "data": {
      "text/html": [
       "<iframe width=\"1280\" height=\"700\" src=\"https://data.humancellatlas.org/\" ></iframe>\n"
      ],
      "text/plain": [
       "<IPython.core.display.HTML object>"
      ]
     },
     "metadata": {},
     "output_type": "display_data"
    }
   ],
   "source": [
    "%%html\n",
    "<iframe width=\"1280\" height=\"700\" src=\"https://data.humancellatlas.org/\" ></iframe>"
   ]
  },
  {
   "cell_type": "markdown",
   "metadata": {},
   "source": [
    "## CellXGene"
   ]
  },
  {
   "cell_type": "markdown",
   "metadata": {},
   "source": [
    "CellXGene é uma ferramenta interativa para visualizar e analisar dados de scRNA-seq. Ela permite os usuários a explorar a expressão gênica, agrupamentos e filtragem de metadados em uma interface web interativa, tornando-o ideal para análises aprofundadas de conjuntos de dados complexos."
   ]
  },
  {
   "cell_type": "markdown",
   "metadata": {},
   "source": [
    "%%html\n",
    "<iframe width=\"1280\" height=\"700\" src=\"https://cellxgene.cziscience.com/\" ></iframe>"
   ]
  },
  {
   "cell_type": "markdown",
   "metadata": {},
   "source": [
    "## Panglao DB"
   ]
  },
  {
   "cell_type": "markdown",
   "metadata": {},
   "source": [
    "O PanglaoDB é uma base de dados de estudos de scRNA-seq focada em identificar tipos celulares em humanos e camundongos. Essa ferramenta oferece uma coleção de conjunto de dados curados que permite ser usada para explorar a expressão gênica entre vários tecidos e organismos."
   ]
  },
  {
   "cell_type": "markdown",
   "metadata": {},
   "source": [
    "%%html\n",
    "<iframe width=\"1280\" height=\"700\" src=\"https://panglaodb.se/\" ></iframe>"
   ]
  },
  {
   "cell_type": "markdown",
   "metadata": {},
   "source": [
    "## CellTypist"
   ]
  },
  {
   "cell_type": "markdown",
   "metadata": {},
   "source": [
    "CellTypist é uma ferramenta de código aberto para classificar tipos celulares de dados de scRNA-seq de forma automatizada. Sendo assim, ela fornece um modelo pré treinado de aprendizado de máquina para predizer os tipos celulares baseados no perfil de expressão, ajudando pesquisadores a interpretar grandes conjuntos de dados de células únicas."
   ]
  },
  {
   "cell_type": "markdown",
   "metadata": {},
   "source": [
    "%%html\n",
    "<iframe width=\"1280\" height=\"700\" src=\"https://www.celltypist.org/\" ></iframe>"
   ]
  },
  {
   "cell_type": "markdown",
   "metadata": {},
   "source": [
    "## GEO (Gene Expression Omnibus)"
   ]
  },
  {
   "cell_type": "markdown",
   "metadata": {},
   "source": [
    "O GEO é um banco de dados de expressão gênica, incluindo dados de microarranjo e RNA-seq. Nele é possível os usuários pesquisarem e baixarem conjuntos de dados para uma variadedade de condições biológicas, oferecendo acesso a ampla gama de dados de expressão de várias espécies."
   ]
  },
  {
   "cell_type": "markdown",
   "metadata": {},
   "source": [
    "%%html\n",
    "<iframe width=\"1280\" height=\"700\" src=\"https://www.ncbi.nlm.nih.gov/geo/\" ></iframe>"
   ]
  },
  {
   "cell_type": "markdown",
   "metadata": {},
   "source": [
    "## SRA (Sequence Read Archive)"
   ]
  },
  {
   "cell_type": "markdown",
   "metadata": {},
   "source": [
    "É um banco de dados públicos, gerenciado pelo NCBI, que fornece acesso aos dados de sequências biológicas de vários organismos e de tecnologias de sequenciamento. Diferente do GEO, que tem o foco em dados processados de expressão gênica, o SRA armezena dados brutos de sequenciamento (leituras), tornando-o útil para análises posteriores como alinhamento e chamada de variantes. "
   ]
  },
  {
   "cell_type": "markdown",
   "metadata": {},
   "source": [
    "%%html\n",
    "<iframe width=\"1280\" height=\"700\" src=\"https://www.ncbi.nlm.nih.gov/sra\" ></iframe>"
   ]
  },
  {
   "cell_type": "markdown",
   "metadata": {},
   "source": [
    "Adicionalmente, este é o [**SRA Explorer**](https://sra-explorer.info/), uma ferramenta interativa para os dados do SRA, permitindo navegar, ter acesso e baixar os dados brutos de sequenciamento de forma mais fácil e eficiente."
   ]
  }
 ],
 "metadata": {
  "kernelspec": {
   "display_name": "Python 3",
   "language": "python",
   "name": "python3"
  },
  "language_info": {
   "codemirror_mode": {
    "name": "ipython",
    "version": 3
   },
   "file_extension": ".py",
   "mimetype": "text/x-python",
   "name": "python",
   "nbconvert_exporter": "python",
   "pygments_lexer": "ipython3",
   "version": "3.12.0"
  }
 },
 "nbformat": 4,
 "nbformat_minor": 2
}
